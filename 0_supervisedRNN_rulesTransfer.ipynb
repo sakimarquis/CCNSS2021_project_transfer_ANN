{
 "cells": [
  {
   "cell_type": "code",
   "execution_count": 1,
   "id": "73518d14",
   "metadata": {},
   "outputs": [],
   "source": [
    "import numpy as np\n",
    "import matplotlib.pyplot as plt\n",
    "\n",
    "import torch\n",
    "import torch.nn as nn"
   ]
  },
  {
   "cell_type": "markdown",
   "id": "03b2bfb8",
   "metadata": {},
   "source": [
    "## Data"
   ]
  },
  {
   "cell_type": "code",
   "execution_count": 2,
   "id": "ab0f00f9",
   "metadata": {},
   "outputs": [
    {
     "name": "stdout",
     "output_type": "stream",
     "text": [
      "dict_keys(['Phase A', 'Phase B', 'Phase C']) dict_keys(['Phase A', 'Phase B', 'Phase C'])\n",
      "(120, 5, 4) (120, 4)\n"
     ]
    }
   ],
   "source": [
    "from hierarchical_generalization.make_datasets import generate_phase_train_test_data\n",
    "\n",
    "train_data, test_data = generate_phase_train_test_data() \n",
    "\n",
    "print(train_data.keys(), test_data.keys())\n",
    "print(train_data['Phase A'][0].shape, train_data['Phase A'][1].shape) # trials x color x shape"
   ]
  },
  {
   "cell_type": "code",
   "execution_count": 3,
   "id": "288071e4",
   "metadata": {
    "scrolled": true
   },
   "outputs": [
    {
     "data": {
      "text/plain": [
       "array([[0., 1., 0., 0.],\n",
       "       [0., 1., 0., 0.],\n",
       "       [1., 1., 1., 1.],\n",
       "       [0., 1., 0., 0.],\n",
       "       [0., 1., 0., 0.]])"
      ]
     },
     "execution_count": 3,
     "metadata": {},
     "output_type": "execute_result"
    }
   ],
   "source": [
    "train, target = train_data['Phase A']\n",
    "trial = train[105]\n",
    "trial"
   ]
  },
  {
   "cell_type": "code",
   "execution_count": 4,
   "id": "f384f88a",
   "metadata": {},
   "outputs": [],
   "source": [
    "def onehot(data):\n",
    "    \"\"\"\n",
    "    input: trials x color x shape\n",
    "    output: trials x onehotcoding of color and shape\n",
    "    \"\"\"\n",
    "    num_trials = data.shape[0]\n",
    "    length = data.shape[1] + data.shape[2]\n",
    "    one_hot = torch.zeros([num_trials, length])\n",
    "    \n",
    "    for i in range(num_trials):\n",
    "        dim0 = data[i].sum(axis=0).argmax()\n",
    "        dim1 = data[i].sum(axis=1).argmax()\n",
    "        one_hot[i][dim0] = 1\n",
    "        one_hot[i][data.shape[1] - 1 + dim1] = 1\n",
    "        \n",
    "    return one_hot"
   ]
  },
  {
   "cell_type": "code",
   "execution_count": 5,
   "id": "9034d845",
   "metadata": {
    "scrolled": true
   },
   "outputs": [
    {
     "data": {
      "text/plain": [
       "tensor([[1., 0., 0.,  ..., 1., 0., 0.],\n",
       "        [0., 1., 0.,  ..., 1., 0., 0.],\n",
       "        [1., 0., 0.,  ..., 0., 0., 0.],\n",
       "        ...,\n",
       "        [1., 0., 0.,  ..., 1., 0., 0.],\n",
       "        [1., 0., 0.,  ..., 1., 0., 0.],\n",
       "        [0., 1., 0.,  ..., 0., 0., 0.]])"
      ]
     },
     "execution_count": 5,
     "metadata": {},
     "output_type": "execute_result"
    }
   ],
   "source": [
    "onehot(train)"
   ]
  },
  {
   "cell_type": "code",
   "execution_count": 6,
   "id": "cc5df6c8",
   "metadata": {},
   "outputs": [
    {
     "name": "stdout",
     "output_type": "stream",
     "text": [
      "torch.Size([120, 9]) torch.Size([120, 4])\n",
      "tensor([[1., 0., 0., 0., 0., 0., 1., 0., 0.],\n",
      "        [0., 1., 0., 0., 0., 1., 0., 0., 0.],\n",
      "        [1., 0., 0., 0., 0., 0., 1., 0., 0.],\n",
      "        [1., 0., 0., 0., 0., 0., 1., 0., 0.]])\n",
      "tensor([[0., 0., 1., 0.],\n",
      "        [0., 1., 0., 0.],\n",
      "        [0., 0., 1., 0.],\n",
      "        [0., 0., 1., 0.]], dtype=torch.float64)\n"
     ]
    }
   ],
   "source": [
    "def phase_data(phase, batch_size=120):\n",
    "    train_data, test_data = generate_phase_train_test_data()\n",
    "    train, test = train_data[phase]\n",
    "    train = onehot(train)\n",
    "    test = torch.from_numpy(test)\n",
    "    return train[:batch_size], test[:batch_size]\n",
    "\n",
    "train, test = phase_data('Phase A')\n",
    "print(train.size(), test.size()) # batch x features; batch x actions\n",
    "print(train[7:11])\n",
    "print(test[7:11])"
   ]
  },
  {
   "cell_type": "code",
   "execution_count": 7,
   "id": "0012a4e3",
   "metadata": {},
   "outputs": [
    {
     "name": "stdout",
     "output_type": "stream",
     "text": [
      "torch.Size([1, 9]) torch.Size([1, 4])\n"
     ]
    }
   ],
   "source": [
    "train, test = phase_data('Phase A', batch_size=1)\n",
    "print(train.size(), test.size()) # batch x features; batch x actions"
   ]
  },
  {
   "cell_type": "markdown",
   "id": "6a451735",
   "metadata": {},
   "source": [
    "## RNN"
   ]
  },
  {
   "cell_type": "markdown",
   "id": "40908a21",
   "metadata": {},
   "source": [
    "### Model"
   ]
  },
  {
   "cell_type": "code",
   "execution_count": 8,
   "id": "2af5a293",
   "metadata": {},
   "outputs": [],
   "source": [
    "class LSTM(nn.Module):\n",
    "    def __init__(self, input_size, hidden_size, num_layers, output_size):\n",
    "        super(LSTM, self).__init__()\n",
    "        self.input_size = input_size\n",
    "        self.hidden_size = hidden_size\n",
    "        self.num_layers = num_layers\n",
    "        self.lstm = nn.LSTM(input_size, hidden_size, num_layers)\n",
    "        self.fc = nn.Linear(hidden_size, output_size)\n",
    "        #self.softmax = nn.LogSoftmax(dim=2)\n",
    "    \n",
    "    def init_hidden(self, batch_size):\n",
    "        #h0 = torch.randn(self.num_layers, batch_size, self.hidden_size)\n",
    "        #c0 = torch.randn(self.num_layers, batch_size, self.hidden_size)\n",
    "        h0 = torch.zeros(self.num_layers, batch_size, self.hidden_size)\n",
    "        c0 = torch.zeros(self.num_layers, batch_size, self.hidden_size)\n",
    "        return [h0, c0]\n",
    "    \n",
    "    def forward(self, x):\n",
    "        hidden = self.init_hidden(x.size(1))\n",
    "        steps = x.size(0) # squence length\n",
    "        out, hidden = self.lstm(x, hidden)\n",
    "        out = self.fc(out)\n",
    "        #out = self.softmax(self.fc(out))\n",
    "        return out"
   ]
  },
  {
   "cell_type": "markdown",
   "id": "f3a0c2fc",
   "metadata": {},
   "source": [
    "### Usage refresh"
   ]
  },
  {
   "cell_type": "code",
   "execution_count": 9,
   "id": "651d8a72",
   "metadata": {
    "scrolled": true
   },
   "outputs": [
    {
     "name": "stdout",
     "output_type": "stream",
     "text": [
      "torch.Size([10, 2, 20]) torch.Size([1, 2, 20]) torch.Size([1, 2, 20])\n"
     ]
    }
   ],
   "source": [
    "length = 10\n",
    "input_size = 3\n",
    "hidden_size = 20\n",
    "batch_size = 2\n",
    "num_layers = 1\n",
    "\n",
    "h0 = torch.zeros(num_layers, batch_size, hidden_size)\n",
    "c0 = torch.zeros(num_layers, batch_size, hidden_size)\n",
    "\n",
    "x = torch.zeros(length, batch_size, input_size)\n",
    "\n",
    "lstm_test = nn.LSTM(input_size, hidden_size)\n",
    "out, hidd = lstm_test(x, [h0, c0])\n",
    "\n",
    "print(out.size(), hidd[0].size(), hidd[1].size()) # out: length x batch x hidden"
   ]
  },
  {
   "cell_type": "markdown",
   "id": "9e120435",
   "metadata": {},
   "source": [
    "### Helper functions"
   ]
  },
  {
   "cell_type": "markdown",
   "id": "ef1636ed",
   "metadata": {},
   "source": [
    "#### plot"
   ]
  },
  {
   "cell_type": "code",
   "execution_count": 10,
   "id": "e205f888",
   "metadata": {},
   "outputs": [],
   "source": [
    "def plot_loss(phase, all_losses):\n",
    "    \"\"\"\n",
    "    all_losses must be an array\n",
    "    \"\"\"\n",
    "    f, ax = plt.subplots(figsize=(6, 4))\n",
    "    ax.set_xlabel('Trials')\n",
    "    ax.set_ylabel('Loss')\n",
    "    ax.set_title(phase)\n",
    "    for i in range(len(all_losses)):\n",
    "        if all_losses[i] < 0.1:\n",
    "            ax.text(i*0.9, all_losses[i]*1.4, s=(i, str(all_losses[i])[:4]))\n",
    "            break\n",
    "    ax.plot(all_losses)\n",
    "    #ax.text(len(all_losses)*0.9, all_losses[-1]*1.2, s=str(all_losses[-1])[:5], alpha=0.9)"
   ]
  },
  {
   "cell_type": "code",
   "execution_count": 11,
   "id": "9392f30f",
   "metadata": {},
   "outputs": [],
   "source": [
    "def plot_accuracy(phase, all_accus):\n",
    "    \"\"\"\n",
    "    all_losses can be an array or a matrix\n",
    "    \"\"\"\n",
    "    phases = ['Phase A', 'Phase B', 'Phase C']\n",
    "    f, ax = plt.subplots(figsize=(6, 4))\n",
    "    ax.set_xlabel('Trials')\n",
    "    ax.set_ylabel('Accuracy')\n",
    "    ax.set_title(phase)\n",
    "    ax.set_ylim([0, 1.1])\n",
    "    ax.set_yticks(np.arange(0,1.1,0.2))\n",
    "    ax.spines['top'].set_visible(False)  #去掉上边框\n",
    "    ax.spines['right'].set_visible(False) #去掉右边框\n",
    "    for j in range(all_accus.shape[-1]):\n",
    "        all_accu = all_accus[:, j]\n",
    "        for i in range(len(all_accu)):\n",
    "            if all_accu[i] > 0.9:\n",
    "                ax.text(i, all_accu[i], s=i)\n",
    "                break\n",
    "        ax.plot(all_accu, label=phases[j])\n",
    "        ax.legend() #loc='upper right'"
   ]
  },
  {
   "cell_type": "markdown",
   "id": "4a593d25",
   "metadata": {},
   "source": [
    "#### test overall generalization"
   ]
  },
  {
   "cell_type": "code",
   "execution_count": 12,
   "id": "b769da6f",
   "metadata": {},
   "outputs": [],
   "source": [
    "def test_allphase(plot=False, ifprint=False):\n",
    "    phases = ['Phase A', 'Phase B', 'Phase C']\n",
    "    train_data, test_data = generate_phase_train_test_data()\n",
    "    all_accu = []\n",
    "    \n",
    "    for phase in phases:\n",
    "        test_input, test_target = test_data[phase]\n",
    "        test_input = onehot(test_input)\n",
    "        test_target = torch.from_numpy(test_target)\n",
    "\n",
    "        with torch.no_grad():\n",
    "            test_input = torch.unsqueeze(test_input, 0)\n",
    "            output = lstm(test_input)\n",
    "            output = torch.squeeze(output, 0)\n",
    "            accuracy = (output.argmax(dim=1) == test_target.argmax(dim=1)).float()\n",
    "            accuracy = accuracy.mean()\n",
    "            all_accu.append(accuracy)\n",
    "            if ifprint:\n",
    "                print(f\"Accuracy in {phase} is: {accuracy.item():.2%}\")\n",
    "        \n",
    "    if plot:\n",
    "        f, ax = plt.subplots(figsize=(4, 4))\n",
    "        ax.bar(phases, all_accu, width=0.5)\n",
    "        for i in range(3):\n",
    "            ax.text(i, all_accu[i]*1.05, '%.3f' % all_accu[i], ha='center', va= 'bottom')\n",
    "    \n",
    "    return all_accu"
   ]
  },
  {
   "cell_type": "markdown",
   "id": "58996763",
   "metadata": {},
   "source": [
    "#### test C0-C1 vs C2"
   ]
  },
  {
   "cell_type": "code",
   "execution_count": 13,
   "id": "caa1da40",
   "metadata": {},
   "outputs": [
    {
     "data": {
      "text/plain": [
       "dict_keys(['TS 1 Phase A', 'TS 2 Phase A', 'TS 1 Phase B', 'TS 2 Phase B', 'TS Old Phase C', 'TS New Phase C'])"
      ]
     },
     "execution_count": 13,
     "metadata": {},
     "output_type": "execute_result"
    }
   ],
   "source": [
    "from hierarchical_generalization.make_datasets import generate_taskset_test_data\n",
    "\n",
    "# Outputs the taskset test data\n",
    "ts_test_data = generate_taskset_test_data()\n",
    "ts_test_data.keys()"
   ]
  },
  {
   "cell_type": "code",
   "execution_count": 14,
   "id": "e5463d8b",
   "metadata": {
    "scrolled": false
   },
   "outputs": [],
   "source": [
    "TS_1_PhaseA = ts_test_data['TS 1 Phase A']\n",
    "TS_2_PhaseA = ts_test_data['TS 2 Phase A']\n",
    "TS_1_PhaseB = ts_test_data['TS 1 Phase B']\n",
    "TS_2_PhaseB = ts_test_data['TS 2 Phase B']\n",
    "TS_Old_PhaseC = ts_test_data['TS Old Phase C']\n",
    "TS_New_PhaseC = ts_test_data['TS New Phase C']"
   ]
  },
  {
   "cell_type": "code",
   "execution_count": 15,
   "id": "668d396b",
   "metadata": {},
   "outputs": [
    {
     "name": "stdout",
     "output_type": "stream",
     "text": [
      "torch.Size([4, 9]) torch.Size([4, 4])\n",
      "torch.Size([2, 9]) torch.Size([2, 4])\n"
     ]
    }
   ],
   "source": [
    "def phase_test(phase, batch_size=120):\n",
    "    ts_test_data = generate_taskset_test_data()\n",
    "    train, target = ts_test_data[phase]\n",
    "    train = onehot(train)\n",
    "    target = torch.from_numpy(target)\n",
    "    return train[:batch_size], target[:batch_size]\n",
    "\n",
    "TS1_PhaseA_train, TS1_PhaseA_target = phase_test('TS 1 Phase A')\n",
    "print(TS1_PhaseA_train.size(), TS1_PhaseA_target.size()) # batch x features; batch x actions\n",
    "\n",
    "TS1_PhaseA_train, TS1_PhaseA_target = phase_test('TS 2 Phase A')\n",
    "print(TS1_PhaseA_train.size(), TS1_PhaseA_target.size()) # batch x features; batch x actions"
   ]
  },
  {
   "cell_type": "code",
   "execution_count": 16,
   "id": "0c451829",
   "metadata": {},
   "outputs": [],
   "source": [
    "def test_C0C1vsC2(phase):\n",
    "    \"\"\"\n",
    "    phase: 'Phase A' or 'Phase B'\n",
    "    \"\"\"\n",
    "    TS1_train, TS1_target = phase_test('TS 1 '+phase)\n",
    "    TS2_train, TS2_target = phase_test('TS 2 '+phase)\n",
    "\n",
    "    TS1_accu = []\n",
    "    TS2_accu = []\n",
    "\n",
    "    with torch.no_grad():\n",
    "        for i in range(TS1_target.size(0)):\n",
    "            train = TS1_train[i:i+1]\n",
    "            train = torch.unsqueeze(train, 0)\n",
    "            output = lstm(train)\n",
    "            output = torch.squeeze(output, 0)\n",
    "            \n",
    "            accuracy = (output.argmax(dim=1) == TS1_target[i:i+1].argmax(dim=1)).float()\n",
    "            TS1_accu.append(accuracy.item())\n",
    "            \n",
    "        for i in range(TS2_target.size(0)):\n",
    "            train = TS2_train[i:i+1]\n",
    "            train = torch.unsqueeze(train, 0)\n",
    "            output = lstm(train)\n",
    "            output = torch.squeeze(output, 0)\n",
    "            \n",
    "            accuracy = (output.argmax(dim=1) == TS2_target[i:i+1].argmax(dim=1)).float()\n",
    "            TS2_accu.append(accuracy.item())\n",
    "            \n",
    "            \n",
    "    return (np.mean(TS1_accu), np.mean(TS2_accu))"
   ]
  },
  {
   "cell_type": "markdown",
   "id": "c0453520",
   "metadata": {},
   "source": [
    "#### test novel context"
   ]
  },
  {
   "cell_type": "code",
   "execution_count": 17,
   "id": "5fb28643",
   "metadata": {},
   "outputs": [],
   "source": [
    "def test_OldvsNew():\n",
    "    TS_Old_train, TS_Old_target = phase_test('TS Old Phase C')\n",
    "    TS_New_train, TS_New_target = phase_test('TS New Phase C')\n",
    "    Old_accu = []\n",
    "    New_accu = []\n",
    "\n",
    "    with torch.no_grad():\n",
    "        for i in range(TS_Old_target.size(0)):\n",
    "            train = TS_Old_train[i:i+1]\n",
    "            train = torch.unsqueeze(train, 0)\n",
    "            output = lstm(train)\n",
    "            output = torch.squeeze(output, 0)\n",
    "            \n",
    "            accuracy = (output.argmax(dim=1) == TS_Old_target[i:i+1].argmax(dim=1)).float()\n",
    "            Old_accu.append(accuracy.item())\n",
    "            \n",
    "        for i in range(TS_New_target.size(0)):\n",
    "            train = TS_New_train[i:i+1]\n",
    "            train = torch.unsqueeze(train, 0)\n",
    "            output = lstm(train)\n",
    "            output = torch.squeeze(output, 0)\n",
    "            \n",
    "            accuracy = (output.argmax(dim=1) == TS_New_target[i:i+1].argmax(dim=1)).float()\n",
    "            New_accu.append(accuracy.item())\n",
    "            \n",
    "    return (np.mean(Old_accu), np.mean(New_accu))"
   ]
  },
  {
   "cell_type": "markdown",
   "id": "ec402223",
   "metadata": {},
   "source": [
    "## Run!!"
   ]
  },
  {
   "cell_type": "markdown",
   "id": "1bf18cd3",
   "metadata": {},
   "source": [
    "### Model hyperparameters"
   ]
  },
  {
   "cell_type": "code",
   "execution_count": 18,
   "id": "e2ffc794",
   "metadata": {},
   "outputs": [],
   "source": [
    "BATCH_SIZE = 1\n",
    "\n",
    "train, test = phase_data('Phase A', batch_size=BATCH_SIZE) # batch x features; batch x actions\n",
    "input_size = train.size(1)\n",
    "output_size = test.size(1)\n",
    "hidden_size = 64\n",
    "\n",
    "num_layers = 1\n",
    "length = 1\n",
    "\n",
    "lstm = LSTM(input_size, hidden_size, num_layers, output_size)\n",
    "optimizer = torch.optim.Adam(lstm.parameters(), lr=0.01)\n",
    "criterion = nn.CrossEntropyLoss()"
   ]
  },
  {
   "cell_type": "markdown",
   "id": "63a6b658",
   "metadata": {},
   "source": [
    "### Initial train on phase A"
   ]
  },
  {
   "cell_type": "code",
   "execution_count": 19,
   "id": "cdb2b94e",
   "metadata": {
    "scrolled": true
   },
   "outputs": [],
   "source": [
    "def train_model(phase, transfer=True):\n",
    "    current_loss = 0\n",
    "    all_losses = []\n",
    "    all_accu = []\n",
    "    n_iters = 500\n",
    "    T1_all_accu = []\n",
    "    T2_all_accu = []\n",
    "\n",
    "    for i in range(n_iters):\n",
    "        train, test = phase_data(phase, batch_size=BATCH_SIZE)\n",
    "        train = torch.unsqueeze(train, 0)\n",
    "\n",
    "        output = lstm(train)\n",
    "        output = torch.squeeze(output, 0)\n",
    "        loss = criterion(output, test.argmax(axis=1))\n",
    "        \n",
    "        accuracy = test_allphase()\n",
    "        all_accu.append([i.item() for i in accuracy])\n",
    "        \n",
    "        if phase != 'Phase C':\n",
    "            TS1_accu, TS2_accu = test_C0C1vsC2(phase)\n",
    "            T1_all_accu.append(TS1_accu)\n",
    "            T2_all_accu.append(TS2_accu)\n",
    "        else:\n",
    "            Old_accu, New_accu = test_OldvsNew()\n",
    "            T1_all_accu.append(Old_accu)\n",
    "            T2_all_accu.append(New_accu)\n",
    "            \n",
    "        optimizer.zero_grad()\n",
    "        loss.backward()\n",
    "        optimizer.step()\n",
    "\n",
    "        all_losses.append(loss.item())\n",
    "        if all_losses[-1] <= 0.01:\n",
    "            if transfer or i >= 200:\n",
    "                break\n",
    "    print(i)\n",
    "    return all_losses, np.array(all_accu), np.array(T1_all_accu), np.array(T2_all_accu)"
   ]
  },
  {
   "cell_type": "code",
   "execution_count": 20,
   "id": "c534e966",
   "metadata": {
    "scrolled": false
   },
   "outputs": [
    {
     "name": "stdout",
     "output_type": "stream",
     "text": [
      "200\n"
     ]
    }
   ],
   "source": [
    "all_lossesA, all_accuA, T1_all_accuA, T2_all_accuA = train_model('Phase A', transfer=False)"
   ]
  },
  {
   "cell_type": "code",
   "execution_count": 21,
   "id": "2289d5a6",
   "metadata": {},
   "outputs": [
    {
     "data": {
      "image/png": "[encoded data removed]",
      "text/plain": [
       "<Figure size 432x288 with 1 Axes>"
      ]
     },
     "metadata": {
      "needs_background": "light"
     },
     "output_type": "display_data"
    },
    {
     "data": {
      "image/png": "[encoded data removed]",
      "text/plain": [
       "<Figure size 432x288 with 1 Axes>"
      ]
     },
     "metadata": {
      "needs_background": "light"
     },
     "output_type": "display_data"
    }
   ],
   "source": [
    "plot_loss('Phase A', all_lossesA)\n",
    "plot_accuracy('Phase A', all_accuA)"
   ]
  },
  {
   "cell_type": "markdown",
   "id": "4096b29a",
   "metadata": {},
   "source": [
    "### Overall transfer B and C"
   ]
  },
  {
   "cell_type": "code",
   "execution_count": 22,
   "id": "d9d35909",
   "metadata": {},
   "outputs": [
    {
     "name": "stdout",
     "output_type": "stream",
     "text": [
      "73\n"
     ]
    },
    {
     "data": {
      "image/png": "[encoded data removed]",
      "text/plain": [
       "<Figure size 432x288 with 1 Axes>"
      ]
     },
     "metadata": {
      "needs_background": "light"
     },
     "output_type": "display_data"
    },
    {
     "data": {
      "image/png": "[encoded data removed]",
      "text/plain": [
       "<Figure size 432x288 with 1 Axes>"
      ]
     },
     "metadata": {
      "needs_background": "light"
     },
     "output_type": "display_data"
    }
   ],
   "source": [
    "all_lossesB, all_accuB, T1_all_accuB, T2_all_accuB  = train_model('Phase B')\n",
    "plot_loss('Phase B', all_lossesB)\n",
    "plot_accuracy('Phase B', all_accuB)"
   ]
  },
  {
   "cell_type": "code",
   "execution_count": 23,
   "id": "b5e85fad",
   "metadata": {
    "scrolled": false
   },
   "outputs": [
    {
     "name": "stdout",
     "output_type": "stream",
     "text": [
      "14\n"
     ]
    },
    {
     "data": {
      "image/png": "[encoded data removed]",
      "text/plain": [
       "<Figure size 432x288 with 1 Axes>"
      ]
     },
     "metadata": {
      "needs_background": "light"
     },
     "output_type": "display_data"
    },
    {
     "data": {
      "image/png": "[encoded data removed]",
      "text/plain": [
       "<Figure size 432x288 with 1 Axes>"
      ]
     },
     "metadata": {
      "needs_background": "light"
     },
     "output_type": "display_data"
    }
   ],
   "source": [
    "all_lossesC, all_accuC, Old_accu, New_accu = train_model('Phase C')\n",
    "plot_loss('Phase C', all_lossesC)\n",
    "plot_accuracy('Phase C', all_accuC)"
   ]
  },
  {
   "cell_type": "markdown",
   "id": "e7d03dd6",
   "metadata": {},
   "source": [
    "### C0-C1 vs C2 in initital trained on A and transfer on B"
   ]
  },
  {
   "cell_type": "code",
   "execution_count": 24,
   "id": "2334fdce",
   "metadata": {
    "scrolled": true
   },
   "outputs": [
    {
     "data": {
      "text/plain": [
       "[<matplotlib.lines.Line2D at 0x1fa3f63d3c8>]"
      ]
     },
     "execution_count": 24,
     "metadata": {},
     "output_type": "execute_result"
    },
    {
     "data": {
      "image/png": "[encoded data removed]",
      "text/plain": [
       "<Figure size 432x288 with 1 Axes>"
      ]
     },
     "metadata": {
      "needs_background": "light"
     },
     "output_type": "display_data"
    }
   ],
   "source": [
    "plt.plot(T1_all_accuA)\n",
    "plt.plot(T2_all_accuA)"
   ]
  },
  {
   "cell_type": "code",
   "execution_count": 25,
   "id": "f7f5b8d3",
   "metadata": {},
   "outputs": [
    {
     "data": {
      "text/plain": [
       "[<matplotlib.lines.Line2D at 0x1fa3f6cbe88>]"
      ]
     },
     "execution_count": 25,
     "metadata": {},
     "output_type": "execute_result"
    },
    {
     "data": {
      "image/png": "[encoded data removed]",
      "text/plain": [
       "<Figure size 432x288 with 1 Axes>"
      ]
     },
     "metadata": {
      "needs_background": "light"
     },
     "output_type": "display_data"
    }
   ],
   "source": [
    "plt.plot(T1_all_accuB)\n",
    "plt.plot(T2_all_accuB)"
   ]
  },
  {
   "cell_type": "markdown",
   "id": "d5f86bc0",
   "metadata": {},
   "source": [
    "### Novel context"
   ]
  },
  {
   "cell_type": "code",
   "execution_count": 26,
   "id": "e2aee102",
   "metadata": {},
   "outputs": [
    {
     "data": {
      "text/plain": [
       "[<matplotlib.lines.Line2D at 0x1fa3f749088>]"
      ]
     },
     "execution_count": 26,
     "metadata": {},
     "output_type": "execute_result"
    },
    {
     "data": {
      "image/png": "[encoded data removed]",
      "text/plain": [
       "<Figure size 432x288 with 1 Axes>"
      ]
     },
     "metadata": {
      "needs_background": "light"
     },
     "output_type": "display_data"
    }
   ],
   "source": [
    "plt.plot(Old_accu)\n",
    "plt.plot(New_accu)"
   ]
  },
  {
   "cell_type": "markdown",
   "id": "ec2ddb88",
   "metadata": {},
   "source": [
    "### Learning curve"
   ]
  },
  {
   "cell_type": "code",
   "execution_count": 27,
   "id": "ac02d142",
   "metadata": {},
   "outputs": [
    {
     "data": {
      "image/png": "[encoded data removed]",
      "text/plain": [
       "<Figure size 432x288 with 1 Axes>"
      ]
     },
     "metadata": {
      "needs_background": "light"
     },
     "output_type": "display_data"
    }
   ],
   "source": [
    "def plot_learningcurve(phases, all_losses):\n",
    "    \"\"\"\n",
    "    all_losses can be an array or a matrix\n",
    "    \"\"\"\n",
    "    f, ax = plt.subplots(figsize=(6, 4))\n",
    "    ax.set_xlabel('Blocks')\n",
    "    ax.set_ylabel('Loss')\n",
    "    ax.set_title(\"Learning Curve\")\n",
    "    for j in range(len(phases)):\n",
    "        all_loss = all_losses[j]\n",
    "        for i in range(len(all_loss)):\n",
    "            if all_loss[i] < 0.1:\n",
    "                ax.text(i*0.9, all_loss[i]*1.3, s=i)\n",
    "                break\n",
    "        ax.plot(all_loss, label=phases[j])\n",
    "        ax.legend()\n",
    "        \n",
    "plot_learningcurve(['Phase A', 'Phase B', 'Phase C'], \n",
    "                   [all_lossesA, all_lossesB, all_lossesC])"
   ]
  },
  {
   "cell_type": "code",
   "execution_count": 28,
   "id": "0d950002",
   "metadata": {
    "scrolled": true
   },
   "outputs": [
    {
     "data": {
      "image/png": "[encoded data removed]",
      "text/plain": [
       "<Figure size 432x288 with 1 Axes>"
      ]
     },
     "metadata": {
      "needs_background": "light"
     },
     "output_type": "display_data"
    }
   ],
   "source": [
    "def plot_learning_accu_curve(phases, all_losses):\n",
    "    \"\"\"\n",
    "    all_losses can be an array or a matrix\n",
    "    \"\"\"\n",
    "    f, ax = plt.subplots(figsize=(6, 4))\n",
    "    ax.set_xlabel('Blocks')\n",
    "    ax.set_ylabel('Loss')\n",
    "    ax.set_title(\"Learning Curve\")\n",
    "    for j in range(len(phases)):\n",
    "        all_loss = all_losses[j]\n",
    "        for i in range(len(all_loss)):\n",
    "            if all_loss[i] > 0.9:\n",
    "                ax.text(i*0.9, all_loss[i], s=i)\n",
    "                break\n",
    "        ax.plot(all_loss, label=phases[j])\n",
    "        ax.legend()\n",
    "        \n",
    "plot_learning_accu_curve(['Phase A', 'Phase B', 'Phase C'], \n",
    "                  [all_accuA[:, 0], all_accuB[:, 1], all_accuC[:, 2]])"
   ]
  },
  {
   "cell_type": "markdown",
   "id": "f3d3d9ee",
   "metadata": {},
   "source": [
    "### 100 subject"
   ]
  },
  {
   "cell_type": "code",
   "execution_count": 29,
   "id": "3ae1e70c",
   "metadata": {
    "scrolled": true
   },
   "outputs": [],
   "source": [
    "# all_data = {}\n",
    "\n",
    "# all_data['all_lossesA'] = np.zeros([100, 200])\n",
    "# all_data['all_accuAA'] = np.zeros([100, 200])\n",
    "# all_data['all_accuAB'] = np.zeros([100, 200])\n",
    "# all_data['all_accuAC'] = np.zeros([100, 200])\n",
    "# all_data['T1_all_accuA'] = np.zeros([100, 200])\n",
    "# all_data['T2_all_accuA'] = np.zeros([100, 200])\n",
    "\n",
    "# all_data['all_lossesB'] = np.zeros([100, 200])\n",
    "# all_data['all_accuBA'] = np.zeros([100, 200])\n",
    "# all_data['all_accuBB'] = np.zeros([100, 200])\n",
    "# all_data['all_accuBC'] = np.zeros([100, 200])\n",
    "# all_data['T1_all_accuB'] = np.zeros([100, 200])\n",
    "# all_data['T2_all_accuB'] = np.zeros([100, 200])\n",
    "\n",
    "# all_data['all_lossesC'] = np.zeros([100, 200])\n",
    "# all_data['all_accuCA'] = np.zeros([100, 200])\n",
    "# all_data['all_accuCB'] = np.zeros([100, 200])\n",
    "# all_data['all_accuCC'] = np.zeros([100, 200])\n",
    "# all_data['Old_accu'] = np.zeros([100, 200])\n",
    "# all_data['New_accu'] = np.zeros([100, 200])\n",
    "\n",
    "# for i in range(100):\n",
    "    \n",
    "#     lstm = LSTM(input_size, hidden_size, num_layers, output_size)\n",
    "#     optimizer = torch.optim.Adam(lstm.parameters(), lr=0.01)\n",
    "#     criterion = nn.CrossEntropyLoss()\n",
    "    \n",
    "#     all_lossesA, all_accuA, T1_all_accuA, T2_all_accuA = train_model('Phase A', transfer=False)\n",
    "#     all_lossesB, all_accuB, T1_all_accuB, T2_all_accuB  = train_model('Phase B', transfer=False)\n",
    "#     all_lossesC, all_accuC, Old_accu, New_accu = train_model('Phase C', transfer=False)\n",
    "    \n",
    "#     all_data['all_lossesA'][i] = all_lossesA[:200]\n",
    "#     all_data['all_accuAA'][i] = all_accuA[:200, 0]\n",
    "#     all_data['all_accuAB'][i] = all_accuA[:200, 1]\n",
    "#     all_data['all_accuAC'][i] = all_accuA[:200, 2]\n",
    "#     all_data['T1_all_accuA'][i] = T1_all_accuA[:200]\n",
    "#     all_data['T2_all_accuA'][i] = T2_all_accuA[:200]\n",
    "    \n",
    "#     all_data['all_lossesB'][i] = all_lossesB[:200]\n",
    "#     all_data['all_accuBA'][i] = all_accuB[:200, 0]\n",
    "#     all_data['all_accuBB'][i] = all_accuB[:200, 1]\n",
    "#     all_data['all_accuBC'][i] = all_accuB[:200, 2]\n",
    "#     all_data['T1_all_accuB'][i] = T1_all_accuB[:200]\n",
    "#     all_data['T2_all_accuB'][i] = T2_all_accuB[:200]\n",
    "    \n",
    "#     all_data['all_lossesC'][i] = all_lossesC[:200]\n",
    "#     all_data['all_accuCA'][i] = all_accuC[:200, 0]\n",
    "#     all_data['all_accuCB'][i] = all_accuC[:200, 1]\n",
    "#     all_data['all_accuCC'][i] = all_accuC[:200, 2]\n",
    "#     all_data['Old_accu'][i] = Old_accu[:200]\n",
    "#     all_data['New_accu'][i] = New_accu[:200]\n",
    "\n",
    "# np.save('my_file.npy', all_data)"
   ]
  },
  {
   "cell_type": "markdown",
   "id": "e41cb263",
   "metadata": {},
   "source": [
    "## Internal representation in ANN"
   ]
  },
  {
   "cell_type": "code",
   "execution_count": 30,
   "id": "cb4d9e55",
   "metadata": {},
   "outputs": [
    {
     "data": {
      "text/plain": [
       "LSTM(\n",
       "  (lstm): LSTM(9, 64)\n",
       "  (fc): Linear(in_features=64, out_features=4, bias=True)\n",
       ")"
      ]
     },
     "execution_count": 30,
     "metadata": {},
     "output_type": "execute_result"
    }
   ],
   "source": [
    "lstm"
   ]
  },
  {
   "cell_type": "markdown",
   "id": "b5b15485",
   "metadata": {},
   "source": [
    "### Get hidden activity"
   ]
  },
  {
   "cell_type": "code",
   "execution_count": 31,
   "id": "71f48e6f",
   "metadata": {},
   "outputs": [],
   "source": [
    "def get_hidden_activity(net, stimuli):\n",
    "    \"\"\"Retrieve internal representations of network\n",
    "\n",
    "    Args:\n",
    "      net (nn.Module): a NN model\n",
    "      stimuli (torch.Tensor): batchsize x 1 x 128 x 128 tensor \n",
    "\n",
    "    Returns:\n",
    "      dict: internal representations at each layer of the network, in\n",
    "        numpy arrays. The keys of this dict are the strings in layer_labels.\n",
    "\n",
    "    \"\"\"\n",
    "    feature_out = {}\n",
    "    layers_name = list(net._modules.keys())\n",
    "    layers = list(net._modules.values())\n",
    "\n",
    "    def hook_fn_forward(module, input, output):\n",
    "        # Attach 'hooks' to each layer of the network to store hidden representations in hidden_activity\n",
    "        layer_name = layers_name[np.argwhere([module == m for m in layers])[0, 0]]\n",
    "        feature_out[layer_name] = output\n",
    "    \n",
    "    handles = {}\n",
    "    modules = net.named_children()\n",
    "    for name, module in modules:\n",
    "        handles[name] = module.register_forward_hook(hook_fn_forward)\n",
    "\n",
    "    net.eval() \n",
    "    with torch.no_grad():\n",
    "        pred = net(stimuli)\n",
    "        for k, v in handles.items():\n",
    "            handles[k].remove()\n",
    "            \n",
    "    return feature_out"
   ]
  },
  {
   "cell_type": "code",
   "execution_count": 32,
   "id": "949e8087",
   "metadata": {},
   "outputs": [],
   "source": [
    "TS_1_PhaseA = ts_test_data['TS 1 Phase A']\n",
    "TS_2_PhaseA = ts_test_data['TS 2 Phase A']\n",
    "TS_1_PhaseB = ts_test_data['TS 1 Phase B']\n",
    "TS_2_PhaseB = ts_test_data['TS 2 Phase B']\n",
    "TS_Old_PhaseC = ts_test_data['TS Old Phase C']\n",
    "TS_New_PhaseC = ts_test_data['TS New Phase C']"
   ]
  },
  {
   "cell_type": "code",
   "execution_count": 33,
   "id": "5b999a05",
   "metadata": {},
   "outputs": [
    {
     "data": {
      "text/plain": [
       "torch.Size([1, 1, 9])"
      ]
     },
     "execution_count": 33,
     "metadata": {},
     "output_type": "execute_result"
    }
   ],
   "source": [
    "ts_test_data = generate_taskset_test_data()\n",
    "train, target = ts_test_data['TS 1 Phase A']\n",
    "train = onehot(train)\n",
    "x = train[0].unsqueeze(0).unsqueeze(0)\n",
    "x.shape"
   ]
  },
  {
   "cell_type": "code",
   "execution_count": 34,
   "id": "5e11b434",
   "metadata": {},
   "outputs": [
    {
     "data": {
      "text/plain": [
       "torch.Size([64])"
      ]
     },
     "execution_count": 34,
     "metadata": {},
     "output_type": "execute_result"
    }
   ],
   "source": [
    "hidden_activity, [_ , _] = get_hidden_activity(lstm, x)['lstm']\n",
    "hidden_activity = hidden_activity.squeeze(0).squeeze(0)\n",
    "hidden_activity.shape"
   ]
  },
  {
   "cell_type": "code",
   "execution_count": 35,
   "id": "02115379",
   "metadata": {
    "scrolled": true
   },
   "outputs": [
    {
     "name": "stdout",
     "output_type": "stream",
     "text": [
      "torch.Size([4, 9])\n",
      "torch.Size([2, 9])\n",
      "torch.Size([4, 9])\n",
      "torch.Size([2, 9])\n",
      "torch.Size([2, 9])\n",
      "torch.Size([2, 9])\n"
     ]
    }
   ],
   "source": [
    "TS1_PhaseA, _ = phase_test('TS 1 Phase A')\n",
    "print(TS1_PhaseA.size()) \n",
    "TS2_PhaseA, _ = phase_test('TS 2 Phase A')\n",
    "print(TS2_PhaseA.size()) \n",
    "TS1_PhaseB, _ = phase_test('TS 1 Phase B')\n",
    "print(TS1_PhaseB.size()) \n",
    "TS2_PhaseB, _ = phase_test('TS 2 Phase B')\n",
    "print(TS2_PhaseB.size()) \n",
    "Old_PhaseC, _ = phase_test('TS Old Phase C')\n",
    "print(Old_PhaseC.size()) \n",
    "New_PhaseC, _ = phase_test('TS New Phase C')\n",
    "print(New_PhaseC.size())"
   ]
  },
  {
   "cell_type": "code",
   "execution_count": 36,
   "id": "e59210f5",
   "metadata": {},
   "outputs": [
    {
     "data": {
      "text/plain": [
       "16"
      ]
     },
     "execution_count": 36,
     "metadata": {},
     "output_type": "execute_result"
    }
   ],
   "source": [
    "label = [0, 0, 0, 0, 1, 1, 0, 0, 0, 0, 1, 1, 2, 2, 3, 3]\n",
    "len(label)"
   ]
  },
  {
   "cell_type": "code",
   "execution_count": 37,
   "id": "e2132220",
   "metadata": {},
   "outputs": [],
   "source": [
    "def get_hidden(data):\n",
    "    num_stim = data.size(0)\n",
    "    hidden = np.zeros([num_stim, 64])\n",
    "    \n",
    "    for i in range(num_stim):\n",
    "        x = data[i].unsqueeze(0).unsqueeze(0)\n",
    "        hidden_activity, [_ , _] = get_hidden_activity(lstm, x)['lstm']\n",
    "        hidden[i] = hidden_activity.squeeze(0).squeeze(0)\n",
    "    \n",
    "    return hidden"
   ]
  },
  {
   "cell_type": "code",
   "execution_count": 38,
   "id": "ebbd8be4",
   "metadata": {},
   "outputs": [],
   "source": [
    "TS1_PhaseA_hidden = get_hidden(TS1_PhaseA)\n",
    "TS2_PhaseA_hidden = get_hidden(TS2_PhaseA)\n",
    "TS1_PhaseB_hidden = get_hidden(TS1_PhaseB)\n",
    "TS2_PhaseB_hidden = get_hidden(TS2_PhaseB)\n",
    "Old_PhaseC_hidden = get_hidden(Old_PhaseC)\n",
    "New_PhaseC_hidden = get_hidden(New_PhaseC)"
   ]
  },
  {
   "cell_type": "markdown",
   "id": "04391f9c",
   "metadata": {},
   "source": [
    "###  RDM of the task set"
   ]
  },
  {
   "cell_type": "code",
   "execution_count": 39,
   "id": "0e038daa",
   "metadata": {},
   "outputs": [
    {
     "data": {
      "text/plain": [
       "(16, 64)"
      ]
     },
     "execution_count": 39,
     "metadata": {},
     "output_type": "execute_result"
    }
   ],
   "source": [
    "hidden_activities = np.concatenate([TS1_PhaseA_hidden,\n",
    "                                   TS2_PhaseA_hidden,\n",
    "                                   TS1_PhaseB_hidden,\n",
    "                                   TS2_PhaseB_hidden,\n",
    "                                   Old_PhaseC_hidden,\n",
    "                                   New_PhaseC_hidden], axis=0)\n",
    "\n",
    "hidden_activities.shape"
   ]
  },
  {
   "cell_type": "code",
   "execution_count": 44,
   "id": "3ade8888",
   "metadata": {},
   "outputs": [],
   "source": [
    "from scipy.spatial.distance import pdist, squareform\n",
    "from scipy.stats import zscore\n",
    "\n",
    "def plot_corr_matrix(rdm, ax=None, vmax=2.0):\n",
    "    \"\"\"Plot dissimilarity matrix\n",
    "\n",
    "    Args:\n",
    "      rdm (numpy array): n_stimuli x n_stimuli representational dissimilarity \n",
    "        matrix\n",
    "      ax (matplotlib axes): axes onto which to plot\n",
    "\n",
    "    Returns:\n",
    "      nothing\n",
    "    \n",
    "    \"\"\"\n",
    "    if ax is None:\n",
    "        ax = plt.gca()\n",
    "\n",
    "    cax = ax.imshow(rdm, vmin=0.0, vmax=vmax)\n",
    "    #cax = ax.imshow(rdm, vmin=-1, vmax=1)\n",
    "    ax.set_aspect('auto')\n",
    "\n",
    "    if rdm.shape[0] == 4:\n",
    "        ax.set_xticks([i for i in range(4)])\n",
    "        ax.set_yticks([i for i in list(range(4))[::-1]])\n",
    "        ax_label = list(labels2num.keys())\n",
    "        ax.set_xticklabels([ax_label[i] for i in range(4)], rotation=30)\n",
    "        ax.set_yticklabels([ax_label[i] for i in list(range(4))[::-1]], rotation=40)\n",
    "    else:\n",
    "        ax.set_xticks([])\n",
    "        ax.set_yticks([])\n",
    "    cbar = plt.colorbar(cax, ax=ax, label='correlation coefficient')\n",
    "    plt.savefig(\"rdmbeatiful.png\",quality=95, dpi=800,bbox_inches='tight')\n",
    "\n",
    "def RDM(resp, methods='corr'):\n",
    "    \"\"\"Compute the representational dissimilarity matrix (RDM)\n",
    "\n",
    "    Args:\n",
    "      resp: S x N matrix with population responses to\n",
    "        each stimulus in each row\n",
    "    \n",
    "    Returns:\n",
    "      np.ndarray: S x S representational dissimilarity matrix\n",
    "    \"\"\"\n",
    "    if methods == 'corr':\n",
    "        zresp = zscore(resp, axis=1)  # z-score responses to each stimulus\n",
    "        result = 1 - (zresp @ zresp.T) / zresp.shape[1]\n",
    "    elif methods == 'dist':\n",
    "        # pdist just returns the upper triangle of the pairwise distance matrix\n",
    "        pair_dist = pdist(resp, 'cosine')\n",
    "        # to get the whole (20, 20) array we can use squareform\n",
    "        result = squareform(pair_dist)\n",
    "    return result"
   ]
  },
  {
   "cell_type": "code",
   "execution_count": 41,
   "id": "5b6cde8b",
   "metadata": {},
   "outputs": [
    {
     "data": {
      "image/png": "[encoded data removed]",
      "text/plain": [
       "<Figure size 432x288 with 2 Axes>"
      ]
     },
     "metadata": {
      "needs_background": "light"
     },
     "output_type": "display_data"
    }
   ],
   "source": [
    "distance = RDM(hidden_activities, 'corr')\n",
    "plot_corr_matrix(distance, vmax=2)"
   ]
  },
  {
   "cell_type": "code",
   "execution_count": 42,
   "id": "4237d058",
   "metadata": {},
   "outputs": [
    {
     "data": {
      "text/plain": [
       "(6, 64)"
      ]
     },
     "execution_count": 42,
     "metadata": {},
     "output_type": "execute_result"
    }
   ],
   "source": [
    "hidden_activities = np.vstack([\n",
    "                                   TS1_PhaseA_hidden.mean(axis=0),\n",
    "                                   TS2_PhaseA_hidden.mean(axis=0),\n",
    "                                   TS1_PhaseB_hidden.mean(axis=0),\n",
    "                                   TS2_PhaseB_hidden.mean(axis=0),\n",
    "                                   Old_PhaseC_hidden.mean(axis=0),\n",
    "                                   New_PhaseC_hidden.mean(axis=0)])\n",
    "\n",
    "hidden_activities.shape"
   ]
  },
  {
   "cell_type": "code",
   "execution_count": 45,
   "id": "0ae0cd0b",
   "metadata": {},
   "outputs": [
    {
     "name": "stderr",
     "output_type": "stream",
     "text": [
      "D:\\Anaconda3\\lib\\site-packages\\ipykernel_launcher.py:33: MatplotlibDeprecationWarning: savefig() got unexpected keyword argument \"quality\" which is no longer supported as of 3.3 and will become an error two minor releases later\n"
     ]
    },
    {
     "data": {
      "image/png": "[encoded data removed]",
      "text/plain": [
       "<Figure size 432x288 with 2 Axes>"
      ]
     },
     "metadata": {
      "needs_background": "light"
     },
     "output_type": "display_data"
    }
   ],
   "source": [
    "distance = RDM(hidden_activities, 'corr')\n",
    "plot_corr_matrix(distance, vmax=2)"
   ]
  },
  {
   "cell_type": "code",
   "execution_count": null,
   "id": "44268599",
   "metadata": {},
   "outputs": [],
   "source": []
  }
 ],
 "metadata": {
  "kernelspec": {
   "display_name": "Python [conda env:root] *",
   "language": "python",
   "name": "conda-root-py"
  },
  "language_info": {
   "codemirror_mode": {
    "name": "ipython",
    "version": 3
   },
   "file_extension": ".py",
   "mimetype": "text/x-python",
   "name": "python",
   "nbconvert_exporter": "python",
   "pygments_lexer": "ipython3",
   "version": "3.7.11"
  },
  "toc": {
   "base_numbering": 1,
   "nav_menu": {},
   "number_sections": true,
   "sideBar": true,
   "skip_h1_title": false,
   "title_cell": "Table of Contents",
   "title_sidebar": "Contents",
   "toc_cell": false,
   "toc_position": {
    "height": "calc(100% - 180px)",
    "left": "10px",
    "top": "150px",
    "width": "232.383px"
   },
   "toc_section_display": true,
   "toc_window_display": true
  }
 },
 "nbformat": 4,
 "nbformat_minor": 5
}
