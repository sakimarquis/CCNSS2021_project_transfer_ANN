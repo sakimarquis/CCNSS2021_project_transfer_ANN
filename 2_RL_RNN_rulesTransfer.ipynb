{
 "cells": [
  {
   "cell_type": "code",
   "execution_count": 1,
   "id": "73518d14",
   "metadata": {},
   "outputs": [],
   "source": [
    "import numpy as np\n",
    "import matplotlib.pyplot as plt\n",
    "\n",
    "import torch\n",
    "import torch.nn as nn\n",
    "import torch.nn.functional as F\n",
    "import torch.optim as optim\n",
    "\n",
    "from hierarchical_generalization.make_datasets import generate_phase_train_test_data"
   ]
  },
  {
   "cell_type": "markdown",
   "id": "03b2bfb8",
   "metadata": {},
   "source": [
    "## Data"
   ]
  },
  {
   "cell_type": "code",
   "execution_count": 2,
   "id": "ab0f00f9",
   "metadata": {},
   "outputs": [
    {
     "name": "stdout",
     "output_type": "stream",
     "text": [
      "dict_keys(['Phase A', 'Phase B', 'Phase C']) dict_keys(['Phase A', 'Phase B', 'Phase C'])\n",
      "(120, 5, 4) (120, 4)\n"
     ]
    }
   ],
   "source": [
    "train_data, test_data = generate_phase_train_test_data() \n",
    "\n",
    "print(train_data.keys(), test_data.keys())\n",
    "print(train_data['Phase A'][0].shape, train_data['Phase A'][1].shape) # trials x color x shape"
   ]
  },
  {
   "cell_type": "code",
   "execution_count": 3,
   "id": "288071e4",
   "metadata": {
    "scrolled": true
   },
   "outputs": [
    {
     "data": {
      "text/plain": [
       "array([[0., 1., 0., 0.],\n",
       "       [0., 1., 0., 0.],\n",
       "       [1., 1., 1., 1.],\n",
       "       [0., 1., 0., 0.],\n",
       "       [0., 1., 0., 0.]])"
      ]
     },
     "execution_count": 3,
     "metadata": {},
     "output_type": "execute_result"
    }
   ],
   "source": [
    "train, target = train_data['Phase A']\n",
    "trial = train[105]\n",
    "trial"
   ]
  },
  {
   "cell_type": "code",
   "execution_count": 4,
   "id": "f384f88a",
   "metadata": {},
   "outputs": [],
   "source": [
    "def onehot(data):\n",
    "    \"\"\"\n",
    "    input: trials x color x shape\n",
    "    output: trials x onehotcoding of color and shape\n",
    "    \"\"\"\n",
    "    num_trials = data.shape[0]\n",
    "    length = data.shape[1] + data.shape[2]\n",
    "    one_hot = torch.zeros([num_trials, length])\n",
    "    \n",
    "    for i in range(num_trials):\n",
    "        dim0 = data[i].sum(axis=0).argmax()\n",
    "        dim1 = data[i].sum(axis=1).argmax()\n",
    "        one_hot[i][dim0] = 1\n",
    "        one_hot[i][data.shape[1] - 1 + dim1] = 1\n",
    "        \n",
    "    return one_hot"
   ]
  },
  {
   "cell_type": "code",
   "execution_count": 5,
   "id": "9034d845",
   "metadata": {
    "scrolled": true
   },
   "outputs": [
    {
     "data": {
      "text/plain": [
       "tensor([[0., 1., 0.,  ..., 0., 0., 0.],\n",
       "        [1., 0., 0.,  ..., 0., 0., 0.],\n",
       "        [0., 1., 0.,  ..., 0., 0., 0.],\n",
       "        ...,\n",
       "        [1., 0., 0.,  ..., 1., 0., 0.],\n",
       "        [1., 0., 0.,  ..., 0., 0., 0.],\n",
       "        [1., 0., 0.,  ..., 0., 0., 0.]])"
      ]
     },
     "execution_count": 5,
     "metadata": {},
     "output_type": "execute_result"
    }
   ],
   "source": [
    "onehot(train)"
   ]
  },
  {
   "cell_type": "code",
   "execution_count": 6,
   "id": "cc5df6c8",
   "metadata": {},
   "outputs": [
    {
     "name": "stdout",
     "output_type": "stream",
     "text": [
      "torch.Size([120, 9]) torch.Size([120, 4])\n"
     ]
    }
   ],
   "source": [
    "def phase_data(phase):\n",
    "    train_data, test_data = generate_phase_train_test_data()\n",
    "    train, test = train_data[phase]\n",
    "    train = onehot(train)\n",
    "    test = torch.from_numpy(test)\n",
    "    return train, test\n",
    "\n",
    "train, test = phase_data('Phase A')\n",
    "print(train.size(), test.size()) # batch x features; batch x actions"
   ]
  },
  {
   "cell_type": "code",
   "execution_count": 7,
   "id": "c0ca4f68",
   "metadata": {},
   "outputs": [
    {
     "data": {
      "text/plain": [
       "tensor([[0., 1., 0., 0., 0., 1., 0., 0., 0.],\n",
       "        [1., 0., 0., 0., 1., 0., 0., 0., 0.],\n",
       "        [0., 1., 0., 0., 1., 0., 0., 0., 0.],\n",
       "        [0., 1., 0., 0., 0., 1., 0., 0., 0.]])"
      ]
     },
     "execution_count": 7,
     "metadata": {},
     "output_type": "execute_result"
    }
   ],
   "source": [
    "train[7:11]"
   ]
  },
  {
   "cell_type": "code",
   "execution_count": 8,
   "id": "63e0f88d",
   "metadata": {
    "scrolled": true
   },
   "outputs": [
    {
     "data": {
      "text/plain": [
       "tensor([[0., 1., 0., 0.],\n",
       "        [1., 0., 0., 0.],\n",
       "        [0., 1., 0., 0.],\n",
       "        [0., 1., 0., 0.]], dtype=torch.float64)"
      ]
     },
     "execution_count": 8,
     "metadata": {},
     "output_type": "execute_result"
    }
   ],
   "source": [
    "test[7:11]"
   ]
  },
  {
   "cell_type": "markdown",
   "id": "78615ef5",
   "metadata": {},
   "source": [
    "### Helper functions"
   ]
  },
  {
   "cell_type": "markdown",
   "id": "2a611202",
   "metadata": {},
   "source": [
    "#### plot"
   ]
  },
  {
   "cell_type": "code",
   "execution_count": 9,
   "id": "1a4d99e2",
   "metadata": {},
   "outputs": [],
   "source": [
    "def plot_loss(phase, all_losses):\n",
    "    \"\"\"\n",
    "    all_losses must be an array\n",
    "    \"\"\"\n",
    "    f, ax = plt.subplots(figsize=(6, 4))\n",
    "    ax.set_xlabel('Trials')\n",
    "    ax.set_ylabel('Loss')\n",
    "    ax.set_title(phase)\n",
    "    for i in range(len(all_losses)):\n",
    "        if all_losses[i] < 0.1:\n",
    "            ax.text(i*0.9, all_losses[i]*1.4, s=(i, str(all_losses[i])[:4]))\n",
    "            break\n",
    "    ax.plot(all_losses)"
   ]
  },
  {
   "cell_type": "code",
   "execution_count": 10,
   "id": "c40f8bba",
   "metadata": {},
   "outputs": [],
   "source": [
    "def plot_accuracy(phase, all_accus):\n",
    "    \"\"\"\n",
    "    all_losses can be an array or a matrix\n",
    "    \"\"\"\n",
    "    phases = ['Phase A', 'Phase B', 'Phase C']\n",
    "    f, ax = plt.subplots(figsize=(6, 4))\n",
    "    ax.set_xlabel('Trials')\n",
    "    ax.set_ylabel('Accuracy')\n",
    "    ax.set_title(phase)\n",
    "    ax.set_ylim([0, 1.1])\n",
    "    ax.set_yticks(np.arange(0,1.1,0.2))\n",
    "    ax.spines['top'].set_visible(False)  #去掉上边框\n",
    "    ax.spines['right'].set_visible(False) #去掉右边框\n",
    "    for j in range(all_accus.shape[-1]):\n",
    "        all_accu = all_accus[:, j]\n",
    "        for i in range(len(all_accu)):\n",
    "            if all_accu[i] > 0.9:\n",
    "                ax.text(i, all_accu[i], s=i)\n",
    "                break\n",
    "        ax.plot(all_accu, label=phases[j])\n",
    "        ax.legend() #loc='upper right'"
   ]
  },
  {
   "cell_type": "markdown",
   "id": "ac84341a",
   "metadata": {},
   "source": [
    "#### test overall generalization"
   ]
  },
  {
   "cell_type": "code",
   "execution_count": 11,
   "id": "0cfdcc61",
   "metadata": {},
   "outputs": [],
   "source": [
    "def test_all_RLphase(plot=False, ifprint=False):\n",
    "    phases = ['Phase A', 'Phase B', 'Phase C']\n",
    "    train_data, test_data = generate_phase_train_test_data()\n",
    "    all_accu = []\n",
    "    \n",
    "    for phase in phases:\n",
    "        test_input, test_target = test_data[phase]\n",
    "        test_input = onehot(test_input)\n",
    "        test_target = torch.from_numpy(test_target)\n",
    "    \n",
    "        with torch.no_grad():\n",
    "            score = 0\n",
    "            batch_size = test_input.size(0)\n",
    "            for i in range(batch_size):\n",
    "                done = False\n",
    "                while not done:\n",
    "                    action = agent.choose_action(test_input[i])\n",
    "                    reward = (action == test_target[i].argmax())\n",
    "                    done = True\n",
    "                    score += reward\n",
    "            all_accu.append(score)\n",
    "            if ifprint:\n",
    "                print(f\"Accuracy in {phase} is: {score.item()/batch_size:.2%}\")\n",
    "\n",
    "    if plot:\n",
    "        all_accu = np.array(all_accu) / 120\n",
    "        f, ax = plt.subplots(figsize=(4, 4))\n",
    "        ax.bar(phases, all_accu, width=0.5)\n",
    "        for i in range(3):\n",
    "            ax.text(i, all_accu[i]*1.05, '%.3f' % all_accu[i], ha='center', va= 'bottom')\n",
    "    \n",
    "    return all_accu"
   ]
  },
  {
   "cell_type": "markdown",
   "id": "3f4b8ab3",
   "metadata": {},
   "source": [
    "#### test C0-C1 vs C2"
   ]
  },
  {
   "cell_type": "code",
   "execution_count": 12,
   "id": "741c27c0",
   "metadata": {},
   "outputs": [
    {
     "data": {
      "text/plain": [
       "dict_keys(['TS 1 Phase A', 'TS 2 Phase A', 'TS 1 Phase B', 'TS 2 Phase B', 'TS Old Phase C', 'TS New Phase C'])"
      ]
     },
     "execution_count": 12,
     "metadata": {},
     "output_type": "execute_result"
    }
   ],
   "source": [
    "from hierarchical_generalization.make_datasets import generate_taskset_test_data\n",
    "\n",
    "# Outputs the taskset test data\n",
    "ts_test_data = generate_taskset_test_data()\n",
    "ts_test_data.keys()"
   ]
  },
  {
   "cell_type": "code",
   "execution_count": 13,
   "id": "ee4530ea",
   "metadata": {},
   "outputs": [],
   "source": [
    "TS_1_PhaseA = ts_test_data['TS 1 Phase A']\n",
    "TS_2_PhaseA = ts_test_data['TS 2 Phase A']\n",
    "TS_1_PhaseB = ts_test_data['TS 1 Phase B']\n",
    "TS_2_PhaseB = ts_test_data['TS 2 Phase B']\n",
    "TS_Old_PhaseC = ts_test_data['TS Old Phase C']\n",
    "TS_New_PhaseC = ts_test_data['TS New Phase C']"
   ]
  },
  {
   "cell_type": "code",
   "execution_count": 14,
   "id": "1e9d5046",
   "metadata": {},
   "outputs": [
    {
     "name": "stdout",
     "output_type": "stream",
     "text": [
      "torch.Size([4, 9]) torch.Size([4, 4])\n",
      "torch.Size([2, 9]) torch.Size([2, 4])\n"
     ]
    }
   ],
   "source": [
    "def phase_test(phase, batch_size=120):\n",
    "    ts_test_data = generate_taskset_test_data()\n",
    "    train, target = ts_test_data[phase]\n",
    "    train = onehot(train)\n",
    "    target = torch.from_numpy(target)\n",
    "    return train[:batch_size], target[:batch_size]\n",
    "\n",
    "TS1_PhaseA_train, TS1_PhaseA_target = phase_test('TS 1 Phase A')\n",
    "print(TS1_PhaseA_train.size(), TS1_PhaseA_target.size()) # batch x features; batch x actions\n",
    "\n",
    "TS1_PhaseA_train, TS1_PhaseA_target = phase_test('TS 2 Phase A')\n",
    "print(TS1_PhaseA_train.size(), TS1_PhaseA_target.size()) # batch x features; batch x actions"
   ]
  },
  {
   "cell_type": "code",
   "execution_count": 15,
   "id": "b2d9d029",
   "metadata": {},
   "outputs": [],
   "source": [
    "def test_RL_C0C1vsC2(phase):\n",
    "    \"\"\"\n",
    "    phase: 'Phase A' or 'Phase B'\n",
    "    \"\"\"\n",
    "    TS1_train, TS1_target = phase_test('TS 1 '+phase)\n",
    "    TS2_train, TS2_target = phase_test('TS 2 '+phase)\n",
    "\n",
    "    TS1_accu = []\n",
    "    TS2_accu = []\n",
    "\n",
    "    with torch.no_grad():\n",
    "        for i in range(TS1_target.size(0)):\n",
    "            score = 0\n",
    "            done = False\n",
    "            while not done:\n",
    "                action = agent.choose_action(TS1_train[i])\n",
    "                reward = (action == TS1_target[i].argmax())\n",
    "                done = True\n",
    "                score += reward\n",
    "        TS1_accu.append(score)\n",
    "            \n",
    "        for i in range(TS2_target.size(0)):\n",
    "            score = 0\n",
    "            done = False\n",
    "            while not done:\n",
    "                action = agent.choose_action(TS2_train[i])\n",
    "                reward = (action == TS2_target[i].argmax())\n",
    "                done = True\n",
    "                score += reward\n",
    "        TS2_accu.append(score)\n",
    "            \n",
    "    return (np.mean(TS1_accu), np.mean(TS2_accu))"
   ]
  },
  {
   "cell_type": "markdown",
   "id": "723c600c",
   "metadata": {},
   "source": [
    "####  test novel context"
   ]
  },
  {
   "cell_type": "code",
   "execution_count": 16,
   "id": "05fb3ff5",
   "metadata": {},
   "outputs": [],
   "source": [
    "def test_RL_OldvsNew():\n",
    "    TS_Old_train, TS_Old_target = phase_test('TS Old Phase C')\n",
    "    TS_New_train, TS_New_target = phase_test('TS New Phase C')\n",
    "    Old_accu = []\n",
    "    New_accu = []\n",
    "\n",
    "    with torch.no_grad():\n",
    "        for i in range(TS_Old_target.size(0)):\n",
    "            score = 0\n",
    "            done = False\n",
    "            while not done:\n",
    "                action = agent.choose_action(TS_Old_train[i])\n",
    "                reward = (action == TS_Old_target[i].argmax())\n",
    "                done = True\n",
    "                score += reward\n",
    "        Old_accu.append(score)\n",
    "            \n",
    "        for i in range(TS_New_target.size(0)):\n",
    "            score = 0\n",
    "            done = False\n",
    "            while not done:\n",
    "                action = agent.choose_action(TS_New_train[i])\n",
    "                reward = (action == TS_New_target[i].argmax())\n",
    "                done = True\n",
    "                score += reward\n",
    "        New_accu.append(score)\n",
    "            \n",
    "    return (np.mean(Old_accu), np.mean(New_accu))"
   ]
  },
  {
   "cell_type": "markdown",
   "id": "729727c5",
   "metadata": {},
   "source": [
    "## Actor Critic"
   ]
  },
  {
   "cell_type": "code",
   "execution_count": 17,
   "id": "3eae9444",
   "metadata": {},
   "outputs": [
    {
     "data": {
      "text/plain": [
       "tensor(-1.0116)"
      ]
     },
     "execution_count": 17,
     "metadata": {},
     "output_type": "execute_result"
    }
   ],
   "source": [
    "a = torch.distributions.Categorical(torch.tensor([0.1, 0.5, 0.1, 0.4]))\n",
    "a.sample().item()\n",
    "a.log_prob(a.sample())"
   ]
  },
  {
   "cell_type": "markdown",
   "id": "ed796a0f",
   "metadata": {},
   "source": [
    "### Actor Critic MLP model"
   ]
  },
  {
   "cell_type": "code",
   "execution_count": 18,
   "id": "5cb99b27",
   "metadata": {},
   "outputs": [],
   "source": [
    "class ActorCriticNetwork(nn.Module):\n",
    "    def __init__(self, lr, input_dims, n_actions, fc1_dims=128, fc2_dims=128):\n",
    "        super(ActorCriticNetwork, self).__init__()\n",
    "        self.fc1 = nn.Linear(input_dims, fc1_dims)\n",
    "        self.fc2 = nn.Linear(fc1_dims, fc2_dims)\n",
    "        self.pi = nn.Linear(fc2_dims, n_actions)\n",
    "        self.v = nn.Linear(fc2_dims, 1)\n",
    "        self.optimizer = optim.Adam(self.parameters(), lr=lr)\n",
    "\n",
    "    def forward(self, state):\n",
    "        x = F.relu(self.fc1(state))\n",
    "        x = F.relu(self.fc2(x))\n",
    "        pi = self.pi(x)\n",
    "        v = self.v(x)\n",
    "        return (pi, v)\n",
    "\n",
    "class Agent():\n",
    "    def __init__(self, lr, input_dims, fc1_dims, fc2_dims, n_actions, gamma=0.99):\n",
    "        self.gamma = gamma\n",
    "        self.lr = lr\n",
    "        self.fc1_dims = fc1_dims\n",
    "        self.fc2_dims = fc2_dims\n",
    "        self.actor_critic = ActorCriticNetwork(lr, input_dims, n_actions, \n",
    "                                               fc1_dims, fc2_dims)\n",
    "        self.log_prob = None\n",
    "\n",
    "    def choose_action(self, observation):\n",
    "        state = torch.as_tensor(observation, dtype=torch.float32)\n",
    "        probabilities, _ = self.actor_critic.forward(state)\n",
    "        probabilities = F.softmax(probabilities, dim=0)\n",
    "        action_probs = torch.distributions.Categorical(probabilities)\n",
    "        action = action_probs.sample()\n",
    "        log_prob = action_probs.log_prob(action)\n",
    "        self.log_prob = log_prob\n",
    "\n",
    "        return action.item()\n",
    "\n",
    "    def learn(self, state, reward, done):\n",
    "        state = torch.as_tensor(state, dtype=torch.float32)\n",
    "        reward = torch.as_tensor(reward, dtype=torch.float32)\n",
    "\n",
    "        _, value = self.actor_critic.forward(state)\n",
    "\n",
    "        delta = reward - value\n",
    "\n",
    "        actor_loss = -self.log_prob*delta\n",
    "        critic_loss = delta**2\n",
    "        \n",
    "        self.actor_critic.optimizer.zero_grad()\n",
    "        (actor_loss + critic_loss).backward()\n",
    "        self.actor_critic.optimizer.step()"
   ]
  },
  {
   "cell_type": "markdown",
   "id": "d02db02d",
   "metadata": {},
   "source": [
    "### Train on phase A"
   ]
  },
  {
   "cell_type": "code",
   "execution_count": 19,
   "id": "9301e95a",
   "metadata": {},
   "outputs": [],
   "source": [
    "def plot_accuracy(phase, accuracy):\n",
    "    \"\"\"\n",
    "    all_losses must be an array\n",
    "    \"\"\"\n",
    "    f, ax = plt.subplots(figsize=(6, 4))\n",
    "    ax.set_xlabel('Blocks')\n",
    "    ax.set_ylabel('Accuracy')\n",
    "    ax.set_title(phase)\n",
    "    for i in range(len(accuracy)):\n",
    "        if accuracy[i] > 0.9:\n",
    "            ax.text(i, accuracy[i], s=(i, str(accuracy[i])[:4]))\n",
    "            break\n",
    "    ax.plot(accuracy)"
   ]
  },
  {
   "cell_type": "code",
   "execution_count": 20,
   "id": "2f0aa7f1",
   "metadata": {
    "scrolled": false
   },
   "outputs": [
    {
     "data": {
      "image/png": "[encoded data removed]",
      "text/plain": [
       "<Figure size 432x288 with 1 Axes>"
      ]
     },
     "metadata": {
      "needs_background": "light"
     },
     "output_type": "display_data"
    }
   ],
   "source": [
    "agent = Agent(lr=1e-3, input_dims=9, n_actions=4, fc1_dims=128, fc2_dims=128)\n",
    "\n",
    "def play_game(phase, n_blocks=500, converge_stop=True):\n",
    "    scores = []\n",
    "    for _ in range(n_blocks):\n",
    "        observation, target = phase_data(phase)\n",
    "        score = 0\n",
    "        for i in range(observation.size(0)):\n",
    "            done = False\n",
    "            while not done:\n",
    "                action = agent.choose_action(observation[i])\n",
    "                reward = (action == target[i].argmax())\n",
    "                done = True\n",
    "                score += reward\n",
    "                agent.learn(observation[i], reward, done)\n",
    "\n",
    "        scores.append(score)\n",
    "        if converge_stop and np.sum(scores[-3:]) > 300:\n",
    "            break\n",
    "    accuracy = np.array(scores) / observation.size(0)\n",
    "    return accuracy\n",
    "\n",
    "accuracyA = play_game('Phase A', converge_stop=False)\n",
    "plot_accuracy('Phase A', accuracyA)"
   ]
  },
  {
   "cell_type": "code",
   "execution_count": 30,
   "id": "7c7b2e9a",
   "metadata": {},
   "outputs": [],
   "source": [
    "agent = Agent(lr=1e-3, input_dims=9, n_actions=4, fc1_dims=128, fc2_dims=128)\n",
    "\n",
    "def play_game(phase, n_blocks=500, converge_stop=True):\n",
    "    scores = []\n",
    "    all_accu = []\n",
    "    T1_all_accu = []\n",
    "    T2_all_accu = []\n",
    "    for _ in range(n_blocks):\n",
    "        observation, target = phase_data(phase)\n",
    "        score = 0\n",
    "        for i in range(observation.size(0)):\n",
    "            done = False\n",
    "            while not done:\n",
    "                action = agent.choose_action(observation[i])\n",
    "                reward = (action == target[i].argmax())\n",
    "                done = True\n",
    "                score += reward\n",
    "                \n",
    "                accuracy = test_all_RLphase()\n",
    "                all_accu.append([i.item() for i in accuracy])\n",
    "\n",
    "                if phase != 'Phase C':\n",
    "                    TS1_accu, TS2_accu = test_RL_C0C1vsC2(phase)\n",
    "                    T1_all_accu.append(TS1_accu)\n",
    "                    T2_all_accu.append(TS2_accu)\n",
    "                else:\n",
    "                    Old_accu, New_accu = test_RL_OldvsNew()\n",
    "                    T1_all_accu.append(Old_accu)\n",
    "                    T2_all_accu.append(New_accu)   \n",
    "                agent.learn(observation[i], reward, done)\n",
    "                \n",
    "\n",
    "        scores.append(score)\n",
    "        if converge_stop and np.sum(scores[-3:]) > 300:\n",
    "            break\n",
    "    accuracy = np.array(scores) / observation.size(0)\n",
    "    return accuracy, np.array(all_accu), np.array(T1_all_accu), np.array(T2_all_accu)"
   ]
  },
  {
   "cell_type": "code",
   "execution_count": 31,
   "id": "f8915463",
   "metadata": {},
   "outputs": [
    {
     "ename": "KeyboardInterrupt",
     "evalue": "",
     "output_type": "error",
     "traceback": [
      "\u001b[1;31m---------------------------------------------------------------------------\u001b[0m",
      "\u001b[1;31mKeyboardInterrupt\u001b[0m                         Traceback (most recent call last)",
      "\u001b[1;32m<ipython-input-31-44eb78a365e2>\u001b[0m in \u001b[0;36m<module>\u001b[1;34m\u001b[0m\n\u001b[1;32m----> 1\u001b[1;33m \u001b[0maccuracyA\u001b[0m\u001b[1;33m,\u001b[0m \u001b[0mall_accuA\u001b[0m\u001b[1;33m,\u001b[0m \u001b[0mT1_all_accuA\u001b[0m\u001b[1;33m,\u001b[0m \u001b[0mT2_all_accuA\u001b[0m \u001b[1;33m=\u001b[0m \u001b[0mplay_game\u001b[0m\u001b[1;33m(\u001b[0m\u001b[1;34m'Phase A'\u001b[0m\u001b[1;33m,\u001b[0m \u001b[0mconverge_stop\u001b[0m\u001b[1;33m=\u001b[0m\u001b[1;32mTrue\u001b[0m\u001b[1;33m)\u001b[0m\u001b[1;33m\u001b[0m\u001b[1;33m\u001b[0m\u001b[0m\n\u001b[0m",
      "\u001b[1;32m<ipython-input-30-47ed9e1d7eeb>\u001b[0m in \u001b[0;36mplay_game\u001b[1;34m(phase, n_blocks, converge_stop)\u001b[0m\n\u001b[0;32m     17\u001b[0m                 \u001b[0mscore\u001b[0m \u001b[1;33m+=\u001b[0m \u001b[0mreward\u001b[0m\u001b[1;33m\u001b[0m\u001b[1;33m\u001b[0m\u001b[0m\n\u001b[0;32m     18\u001b[0m \u001b[1;33m\u001b[0m\u001b[0m\n\u001b[1;32m---> 19\u001b[1;33m                 \u001b[0maccuracy\u001b[0m \u001b[1;33m=\u001b[0m \u001b[0mtest_all_RLphase\u001b[0m\u001b[1;33m(\u001b[0m\u001b[1;33m)\u001b[0m\u001b[1;33m\u001b[0m\u001b[1;33m\u001b[0m\u001b[0m\n\u001b[0m\u001b[0;32m     20\u001b[0m                 \u001b[0mall_accu\u001b[0m\u001b[1;33m.\u001b[0m\u001b[0mappend\u001b[0m\u001b[1;33m(\u001b[0m\u001b[1;33m[\u001b[0m\u001b[0mi\u001b[0m\u001b[1;33m.\u001b[0m\u001b[0mitem\u001b[0m\u001b[1;33m(\u001b[0m\u001b[1;33m)\u001b[0m \u001b[1;32mfor\u001b[0m \u001b[0mi\u001b[0m \u001b[1;32min\u001b[0m \u001b[0maccuracy\u001b[0m\u001b[1;33m]\u001b[0m\u001b[1;33m)\u001b[0m\u001b[1;33m\u001b[0m\u001b[1;33m\u001b[0m\u001b[0m\n\u001b[0;32m     21\u001b[0m \u001b[1;33m\u001b[0m\u001b[0m\n",
      "\u001b[1;32m<ipython-input-11-c595477eea0b>\u001b[0m in \u001b[0;36mtest_all_RLphase\u001b[1;34m(plot, ifprint)\u001b[0m\n\u001b[0;32m     15\u001b[0m                 \u001b[0mdone\u001b[0m \u001b[1;33m=\u001b[0m \u001b[1;32mFalse\u001b[0m\u001b[1;33m\u001b[0m\u001b[1;33m\u001b[0m\u001b[0m\n\u001b[0;32m     16\u001b[0m                 \u001b[1;32mwhile\u001b[0m \u001b[1;32mnot\u001b[0m \u001b[0mdone\u001b[0m\u001b[1;33m:\u001b[0m\u001b[1;33m\u001b[0m\u001b[1;33m\u001b[0m\u001b[0m\n\u001b[1;32m---> 17\u001b[1;33m                     \u001b[0maction\u001b[0m \u001b[1;33m=\u001b[0m \u001b[0magent\u001b[0m\u001b[1;33m.\u001b[0m\u001b[0mchoose_action\u001b[0m\u001b[1;33m(\u001b[0m\u001b[0mtest_input\u001b[0m\u001b[1;33m[\u001b[0m\u001b[0mi\u001b[0m\u001b[1;33m]\u001b[0m\u001b[1;33m)\u001b[0m\u001b[1;33m\u001b[0m\u001b[1;33m\u001b[0m\u001b[0m\n\u001b[0m\u001b[0;32m     18\u001b[0m                     \u001b[0mreward\u001b[0m \u001b[1;33m=\u001b[0m \u001b[1;33m(\u001b[0m\u001b[0maction\u001b[0m \u001b[1;33m==\u001b[0m \u001b[0mtest_target\u001b[0m\u001b[1;33m[\u001b[0m\u001b[0mi\u001b[0m\u001b[1;33m]\u001b[0m\u001b[1;33m.\u001b[0m\u001b[0margmax\u001b[0m\u001b[1;33m(\u001b[0m\u001b[1;33m)\u001b[0m\u001b[1;33m)\u001b[0m\u001b[1;33m\u001b[0m\u001b[1;33m\u001b[0m\u001b[0m\n\u001b[0;32m     19\u001b[0m                     \u001b[0mdone\u001b[0m \u001b[1;33m=\u001b[0m \u001b[1;32mTrue\u001b[0m\u001b[1;33m\u001b[0m\u001b[1;33m\u001b[0m\u001b[0m\n",
      "\u001b[1;32m<ipython-input-18-47e78df80fda>\u001b[0m in \u001b[0;36mchoose_action\u001b[1;34m(self, observation)\u001b[0m\n\u001b[0;32m     27\u001b[0m     \u001b[1;32mdef\u001b[0m \u001b[0mchoose_action\u001b[0m\u001b[1;33m(\u001b[0m\u001b[0mself\u001b[0m\u001b[1;33m,\u001b[0m \u001b[0mobservation\u001b[0m\u001b[1;33m)\u001b[0m\u001b[1;33m:\u001b[0m\u001b[1;33m\u001b[0m\u001b[1;33m\u001b[0m\u001b[0m\n\u001b[0;32m     28\u001b[0m         \u001b[0mstate\u001b[0m \u001b[1;33m=\u001b[0m \u001b[0mtorch\u001b[0m\u001b[1;33m.\u001b[0m\u001b[0mas_tensor\u001b[0m\u001b[1;33m(\u001b[0m\u001b[0mobservation\u001b[0m\u001b[1;33m,\u001b[0m \u001b[0mdtype\u001b[0m\u001b[1;33m=\u001b[0m\u001b[0mtorch\u001b[0m\u001b[1;33m.\u001b[0m\u001b[0mfloat32\u001b[0m\u001b[1;33m)\u001b[0m\u001b[1;33m\u001b[0m\u001b[1;33m\u001b[0m\u001b[0m\n\u001b[1;32m---> 29\u001b[1;33m         \u001b[0mprobabilities\u001b[0m\u001b[1;33m,\u001b[0m \u001b[0m_\u001b[0m \u001b[1;33m=\u001b[0m \u001b[0mself\u001b[0m\u001b[1;33m.\u001b[0m\u001b[0mactor_critic\u001b[0m\u001b[1;33m.\u001b[0m\u001b[0mforward\u001b[0m\u001b[1;33m(\u001b[0m\u001b[0mstate\u001b[0m\u001b[1;33m)\u001b[0m\u001b[1;33m\u001b[0m\u001b[1;33m\u001b[0m\u001b[0m\n\u001b[0m\u001b[0;32m     30\u001b[0m         \u001b[0mprobabilities\u001b[0m \u001b[1;33m=\u001b[0m \u001b[0mF\u001b[0m\u001b[1;33m.\u001b[0m\u001b[0msoftmax\u001b[0m\u001b[1;33m(\u001b[0m\u001b[0mprobabilities\u001b[0m\u001b[1;33m,\u001b[0m \u001b[0mdim\u001b[0m\u001b[1;33m=\u001b[0m\u001b[1;36m0\u001b[0m\u001b[1;33m)\u001b[0m\u001b[1;33m\u001b[0m\u001b[1;33m\u001b[0m\u001b[0m\n\u001b[0;32m     31\u001b[0m         \u001b[0maction_probs\u001b[0m \u001b[1;33m=\u001b[0m \u001b[0mtorch\u001b[0m\u001b[1;33m.\u001b[0m\u001b[0mdistributions\u001b[0m\u001b[1;33m.\u001b[0m\u001b[0mCategorical\u001b[0m\u001b[1;33m(\u001b[0m\u001b[0mprobabilities\u001b[0m\u001b[1;33m)\u001b[0m\u001b[1;33m\u001b[0m\u001b[1;33m\u001b[0m\u001b[0m\n",
      "\u001b[1;32m<ipython-input-18-47e78df80fda>\u001b[0m in \u001b[0;36mforward\u001b[1;34m(self, state)\u001b[0m\n\u001b[0;32m     10\u001b[0m     \u001b[1;32mdef\u001b[0m \u001b[0mforward\u001b[0m\u001b[1;33m(\u001b[0m\u001b[0mself\u001b[0m\u001b[1;33m,\u001b[0m \u001b[0mstate\u001b[0m\u001b[1;33m)\u001b[0m\u001b[1;33m:\u001b[0m\u001b[1;33m\u001b[0m\u001b[1;33m\u001b[0m\u001b[0m\n\u001b[0;32m     11\u001b[0m         \u001b[0mx\u001b[0m \u001b[1;33m=\u001b[0m \u001b[0mF\u001b[0m\u001b[1;33m.\u001b[0m\u001b[0mrelu\u001b[0m\u001b[1;33m(\u001b[0m\u001b[0mself\u001b[0m\u001b[1;33m.\u001b[0m\u001b[0mfc1\u001b[0m\u001b[1;33m(\u001b[0m\u001b[0mstate\u001b[0m\u001b[1;33m)\u001b[0m\u001b[1;33m)\u001b[0m\u001b[1;33m\u001b[0m\u001b[1;33m\u001b[0m\u001b[0m\n\u001b[1;32m---> 12\u001b[1;33m         \u001b[0mx\u001b[0m \u001b[1;33m=\u001b[0m \u001b[0mF\u001b[0m\u001b[1;33m.\u001b[0m\u001b[0mrelu\u001b[0m\u001b[1;33m(\u001b[0m\u001b[0mself\u001b[0m\u001b[1;33m.\u001b[0m\u001b[0mfc2\u001b[0m\u001b[1;33m(\u001b[0m\u001b[0mx\u001b[0m\u001b[1;33m)\u001b[0m\u001b[1;33m)\u001b[0m\u001b[1;33m\u001b[0m\u001b[1;33m\u001b[0m\u001b[0m\n\u001b[0m\u001b[0;32m     13\u001b[0m         \u001b[0mpi\u001b[0m \u001b[1;33m=\u001b[0m \u001b[0mself\u001b[0m\u001b[1;33m.\u001b[0m\u001b[0mpi\u001b[0m\u001b[1;33m(\u001b[0m\u001b[0mx\u001b[0m\u001b[1;33m)\u001b[0m\u001b[1;33m\u001b[0m\u001b[1;33m\u001b[0m\u001b[0m\n\u001b[0;32m     14\u001b[0m         \u001b[0mv\u001b[0m \u001b[1;33m=\u001b[0m \u001b[0mself\u001b[0m\u001b[1;33m.\u001b[0m\u001b[0mv\u001b[0m\u001b[1;33m(\u001b[0m\u001b[0mx\u001b[0m\u001b[1;33m)\u001b[0m\u001b[1;33m\u001b[0m\u001b[1;33m\u001b[0m\u001b[0m\n",
      "\u001b[1;32mD:\\Anaconda3\\lib\\site-packages\\torch\\nn\\modules\\module.py\u001b[0m in \u001b[0;36m_call_impl\u001b[1;34m(self, *input, **kwargs)\u001b[0m\n\u001b[0;32m   1049\u001b[0m         if not (self._backward_hooks or self._forward_hooks or self._forward_pre_hooks or _global_backward_hooks\n\u001b[0;32m   1050\u001b[0m                 or _global_forward_hooks or _global_forward_pre_hooks):\n\u001b[1;32m-> 1051\u001b[1;33m             \u001b[1;32mreturn\u001b[0m \u001b[0mforward_call\u001b[0m\u001b[1;33m(\u001b[0m\u001b[1;33m*\u001b[0m\u001b[0minput\u001b[0m\u001b[1;33m,\u001b[0m \u001b[1;33m**\u001b[0m\u001b[0mkwargs\u001b[0m\u001b[1;33m)\u001b[0m\u001b[1;33m\u001b[0m\u001b[1;33m\u001b[0m\u001b[0m\n\u001b[0m\u001b[0;32m   1052\u001b[0m         \u001b[1;31m# Do not call functions when jit is used\u001b[0m\u001b[1;33m\u001b[0m\u001b[1;33m\u001b[0m\u001b[1;33m\u001b[0m\u001b[0m\n\u001b[0;32m   1053\u001b[0m         \u001b[0mfull_backward_hooks\u001b[0m\u001b[1;33m,\u001b[0m \u001b[0mnon_full_backward_hooks\u001b[0m \u001b[1;33m=\u001b[0m \u001b[1;33m[\u001b[0m\u001b[1;33m]\u001b[0m\u001b[1;33m,\u001b[0m \u001b[1;33m[\u001b[0m\u001b[1;33m]\u001b[0m\u001b[1;33m\u001b[0m\u001b[1;33m\u001b[0m\u001b[0m\n",
      "\u001b[1;32mD:\\Anaconda3\\lib\\site-packages\\torch\\nn\\modules\\linear.py\u001b[0m in \u001b[0;36mforward\u001b[1;34m(self, input)\u001b[0m\n\u001b[0;32m     94\u001b[0m \u001b[1;33m\u001b[0m\u001b[0m\n\u001b[0;32m     95\u001b[0m     \u001b[1;32mdef\u001b[0m \u001b[0mforward\u001b[0m\u001b[1;33m(\u001b[0m\u001b[0mself\u001b[0m\u001b[1;33m,\u001b[0m \u001b[0minput\u001b[0m\u001b[1;33m:\u001b[0m \u001b[0mTensor\u001b[0m\u001b[1;33m)\u001b[0m \u001b[1;33m->\u001b[0m \u001b[0mTensor\u001b[0m\u001b[1;33m:\u001b[0m\u001b[1;33m\u001b[0m\u001b[1;33m\u001b[0m\u001b[0m\n\u001b[1;32m---> 96\u001b[1;33m         \u001b[1;32mreturn\u001b[0m \u001b[0mF\u001b[0m\u001b[1;33m.\u001b[0m\u001b[0mlinear\u001b[0m\u001b[1;33m(\u001b[0m\u001b[0minput\u001b[0m\u001b[1;33m,\u001b[0m \u001b[0mself\u001b[0m\u001b[1;33m.\u001b[0m\u001b[0mweight\u001b[0m\u001b[1;33m,\u001b[0m \u001b[0mself\u001b[0m\u001b[1;33m.\u001b[0m\u001b[0mbias\u001b[0m\u001b[1;33m)\u001b[0m\u001b[1;33m\u001b[0m\u001b[1;33m\u001b[0m\u001b[0m\n\u001b[0m\u001b[0;32m     97\u001b[0m \u001b[1;33m\u001b[0m\u001b[0m\n\u001b[0;32m     98\u001b[0m     \u001b[1;32mdef\u001b[0m \u001b[0mextra_repr\u001b[0m\u001b[1;33m(\u001b[0m\u001b[0mself\u001b[0m\u001b[1;33m)\u001b[0m \u001b[1;33m->\u001b[0m \u001b[0mstr\u001b[0m\u001b[1;33m:\u001b[0m\u001b[1;33m\u001b[0m\u001b[1;33m\u001b[0m\u001b[0m\n",
      "\u001b[1;32mD:\\Anaconda3\\lib\\site-packages\\torch\\nn\\functional.py\u001b[0m in \u001b[0;36mlinear\u001b[1;34m(input, weight, bias)\u001b[0m\n\u001b[0;32m   1845\u001b[0m     \u001b[1;32mif\u001b[0m \u001b[0mhas_torch_function_variadic\u001b[0m\u001b[1;33m(\u001b[0m\u001b[0minput\u001b[0m\u001b[1;33m,\u001b[0m \u001b[0mweight\u001b[0m\u001b[1;33m)\u001b[0m\u001b[1;33m:\u001b[0m\u001b[1;33m\u001b[0m\u001b[1;33m\u001b[0m\u001b[0m\n\u001b[0;32m   1846\u001b[0m         \u001b[1;32mreturn\u001b[0m \u001b[0mhandle_torch_function\u001b[0m\u001b[1;33m(\u001b[0m\u001b[0mlinear\u001b[0m\u001b[1;33m,\u001b[0m \u001b[1;33m(\u001b[0m\u001b[0minput\u001b[0m\u001b[1;33m,\u001b[0m \u001b[0mweight\u001b[0m\u001b[1;33m)\u001b[0m\u001b[1;33m,\u001b[0m \u001b[0minput\u001b[0m\u001b[1;33m,\u001b[0m \u001b[0mweight\u001b[0m\u001b[1;33m,\u001b[0m \u001b[0mbias\u001b[0m\u001b[1;33m=\u001b[0m\u001b[0mbias\u001b[0m\u001b[1;33m)\u001b[0m\u001b[1;33m\u001b[0m\u001b[1;33m\u001b[0m\u001b[0m\n\u001b[1;32m-> 1847\u001b[1;33m     \u001b[1;32mreturn\u001b[0m \u001b[0mtorch\u001b[0m\u001b[1;33m.\u001b[0m\u001b[0m_C\u001b[0m\u001b[1;33m.\u001b[0m\u001b[0m_nn\u001b[0m\u001b[1;33m.\u001b[0m\u001b[0mlinear\u001b[0m\u001b[1;33m(\u001b[0m\u001b[0minput\u001b[0m\u001b[1;33m,\u001b[0m \u001b[0mweight\u001b[0m\u001b[1;33m,\u001b[0m \u001b[0mbias\u001b[0m\u001b[1;33m)\u001b[0m\u001b[1;33m\u001b[0m\u001b[1;33m\u001b[0m\u001b[0m\n\u001b[0m\u001b[0;32m   1848\u001b[0m \u001b[1;33m\u001b[0m\u001b[0m\n\u001b[0;32m   1849\u001b[0m \u001b[1;33m\u001b[0m\u001b[0m\n",
      "\u001b[1;31mKeyboardInterrupt\u001b[0m: "
     ]
    }
   ],
   "source": [
    "accuracyA, all_accuA, T1_all_accuA, T2_all_accuA = play_game('Phase A', converge_stop=True)"
   ]
  },
  {
   "cell_type": "code",
   "execution_count": null,
   "id": "65e8947c",
   "metadata": {},
   "outputs": [],
   "source": [
    "plot_loss('Phase A', accuracyA)\n",
    "plot_accuracy('Phase A', all_accuA)"
   ]
  },
  {
   "cell_type": "code",
   "execution_count": 24,
   "id": "af6d46a4",
   "metadata": {},
   "outputs": [
    {
     "name": "stdout",
     "output_type": "stream",
     "text": [
      "Accuracy in Phase A is: 100.00%\n",
      "Accuracy in Phase B is: 40.83%\n",
      "Accuracy in Phase C is: 25.83%\n"
     ]
    },
    {
     "data": {
      "image/png": "[encoded data removed]",
      "text/plain": [
       "<Figure size 288x288 with 1 Axes>"
      ]
     },
     "metadata": {
      "needs_background": "light"
     },
     "output_type": "display_data"
    }
   ],
   "source": [
    "test_all_RLphase(plot=True)"
   ]
  },
  {
   "cell_type": "markdown",
   "id": "3829898e",
   "metadata": {},
   "source": [
    "### Transfer phase"
   ]
  },
  {
   "cell_type": "code",
   "execution_count": 25,
   "id": "a239fd24",
   "metadata": {},
   "outputs": [
    {
     "name": "stdout",
     "output_type": "stream",
     "text": [
      "Accuracy in Phase A is: 88.33%\n",
      "Accuracy in Phase B is: 98.33%\n",
      "Accuracy in Phase C is: 75.83%\n"
     ]
    },
    {
     "data": {
      "image/png": "[encoded data removed]",
      "text/plain": [
       "<Figure size 432x288 with 1 Axes>"
      ]
     },
     "metadata": {
      "needs_background": "light"
     },
     "output_type": "display_data"
    }
   ],
   "source": [
    "accuracyB = play_game('Phase B')\n",
    "plot_accuracy('Phase B', accuracyB)\n",
    "test_all_RLphase()"
   ]
  },
  {
   "cell_type": "code",
   "execution_count": 26,
   "id": "4be3de4e",
   "metadata": {},
   "outputs": [
    {
     "name": "stdout",
     "output_type": "stream",
     "text": [
      "Accuracy in Phase A is: 89.17%\n",
      "Accuracy in Phase B is: 99.17%\n",
      "Accuracy in Phase C is: 100.00%\n"
     ]
    },
    {
     "data": {
      "image/png": "[encoded data removed]",
      "text/plain": [
       "<Figure size 432x288 with 1 Axes>"
      ]
     },
     "metadata": {
      "needs_background": "light"
     },
     "output_type": "display_data"
    }
   ],
   "source": [
    "accuracyC = play_game('Phase C')\n",
    "plot_accuracy('Phase C', accuracyC)\n",
    "test_all_RLphase()"
   ]
  },
  {
   "cell_type": "markdown",
   "id": "a7fe4484",
   "metadata": {},
   "source": [
    "### Learning Curve"
   ]
  },
  {
   "cell_type": "code",
   "execution_count": 27,
   "id": "af24ebba",
   "metadata": {},
   "outputs": [
    {
     "data": {
      "image/png": "[encoded data removed]",
      "text/plain": [
       "<Figure size 432x288 with 1 Axes>"
      ]
     },
     "metadata": {
      "needs_background": "light"
     },
     "output_type": "display_data"
    }
   ],
   "source": [
    "def plot_learningcurve(phases, all_losses):\n",
    "    \"\"\"\n",
    "    all_losses can be an array or a matrix\n",
    "    \"\"\"\n",
    "    f, ax = plt.subplots(figsize=(6, 4))\n",
    "    ax.set_xlabel('Blocks')\n",
    "    ax.set_ylabel('Accuracy')\n",
    "    ax.set_title(\"Learning Curve\")\n",
    "    for j in range(len(phases)):\n",
    "        all_loss = all_losses[j]\n",
    "        for i in range(len(all_loss)):\n",
    "            if all_loss[i] < 0.1:\n",
    "                ax.text(i*0.9, all_loss[i]*1.3, s=i)\n",
    "                break\n",
    "        ax.plot(all_loss, label=phases[j])\n",
    "        ax.legend()\n",
    "        \n",
    "plot_learningcurve(['Phase A', 'Phase B', 'Phase C'], \n",
    "                                   [accuracyA[:20], accuracyB, accuracyC])"
   ]
  },
  {
   "cell_type": "markdown",
   "id": "c4eab7fc",
   "metadata": {},
   "source": [
    "## Actor Critic LSTM"
   ]
  },
  {
   "cell_type": "markdown",
   "id": "931e397a",
   "metadata": {},
   "source": [
    "### Actor Critic LSTM model"
   ]
  },
  {
   "cell_type": "code",
   "execution_count": 28,
   "id": "32717868",
   "metadata": {},
   "outputs": [],
   "source": [
    "class ActorCriticLSTM(nn.Module):\n",
    "    def __init__(self, lr, input_size, n_actions, hidden_size, num_layers):\n",
    "        super(ActorCriticLSTM, self).__init__()\n",
    "        self.input_size = input_size\n",
    "        self.hidden_size = hidden_size\n",
    "        self.num_layers = num_layers\n",
    "        \n",
    "        self.lstm = nn.LSTM(input_size, hidden_size, num_layers)\n",
    "        self.pi = nn.Linear(hidden_size, n_actions)\n",
    "        self.v = nn.Linear(hidden_size, 1)\n",
    "        \n",
    "        self.optimizer = optim.Adam(self.parameters(), lr=lr)\n",
    "\n",
    "        \n",
    "    def init_hidden(self, batch_size):\n",
    "        h0 = torch.zeros(self.num_layers, batch_size, self.hidden_size)\n",
    "        c0 = torch.zeros(self.num_layers, batch_size, self.hidden_size)\n",
    "        return [h0, c0]\n",
    "    \n",
    "    def forward(self, x):\n",
    "        hidden = self.init_hidden(1)\n",
    "        #steps = x.size(0) # squence length\n",
    "        out, hidden = self.lstm(x, hidden)\n",
    "        pi = self.pi(out)\n",
    "        v = self.v(out)\n",
    "        return (pi, v)\n",
    "\n",
    "class AgentLSTM():\n",
    "    def __init__(self, lr, input_size, n_actions, hidden_size, num_layers, gamma=0.99):\n",
    "        self.gamma = gamma\n",
    "        self.lr = lr\n",
    "        self.input_size = input_size\n",
    "        self.hidden_size = hidden_size\n",
    "        self.num_layers = num_layers\n",
    "        self.actor_critic_lstm = ActorCriticLSTM(lr, input_size, n_actions, \n",
    "                                               hidden_size, num_layers)\n",
    "        self.log_prob = None\n",
    "\n",
    "    def choose_action(self, observation):\n",
    "        state = torch.as_tensor(observation, dtype=torch.float32)\n",
    "        probabilities, _ = self.actor_critic_lstm.forward(state)\n",
    "        probabilities = F.softmax(probabilities, dim=2)\n",
    "        action_probs = torch.distributions.Categorical(probabilities)\n",
    "        action = action_probs.sample()\n",
    "        log_prob = action_probs.log_prob(action)\n",
    "        self.log_prob = log_prob\n",
    "\n",
    "        return action.item()\n",
    "\n",
    "    def learn(self, state, reward, done):\n",
    "        state = torch.as_tensor(state, dtype=torch.float32)\n",
    "        reward = torch.as_tensor(reward, dtype=torch.float)\n",
    "\n",
    "        _, value = self.actor_critic_lstm.forward(state)\n",
    "\n",
    "        delta = reward - value\n",
    "\n",
    "        actor_loss = -self.log_prob*delta\n",
    "        critic_loss = delta**2\n",
    "        \n",
    "        self.actor_critic_lstm.optimizer.zero_grad()\n",
    "        (actor_loss + critic_loss).backward()\n",
    "        self.actor_critic_lstm.optimizer.step()"
   ]
  },
  {
   "cell_type": "markdown",
   "id": "580364e0",
   "metadata": {},
   "source": [
    "### Train on phase A"
   ]
  },
  {
   "cell_type": "code",
   "execution_count": 29,
   "id": "5ef1f7c9",
   "metadata": {},
   "outputs": [],
   "source": [
    "LSTMagent = AgentLSTM(lr=0.001, input_size=9, n_actions=4, hidden_size=128, num_layers=2)\n",
    "\n",
    "def play_LSTM_game(phase, n_blocks=100, converge_stop=True):\n",
    "    scores = []\n",
    "\n",
    "    for _ in range(n_blocks):\n",
    "        observation, target = phase_data(phase)\n",
    "        score = 0\n",
    "        for i in range(observation.size(0)):\n",
    "            done = False\n",
    "            while not done:\n",
    "                this_obs = observation[i].reshape(1, 1, -1)\n",
    "                action = LSTMagent.choose_action(this_obs)\n",
    "                reward = (action == target[i].argmax())\n",
    "                done = True\n",
    "                score += reward\n",
    "                LSTMagent.learn(this_obs, reward, done)\n",
    "\n",
    "        scores.append(score)\n",
    "        if converge_stop and np.sum(scores[-3:]) > 300:\n",
    "            break\n",
    "    accuracy = np.array(scores) / observation.size(0)\n",
    "    return accuracy"
   ]
  },
  {
   "cell_type": "code",
   "execution_count": 30,
   "id": "49b74fa6",
   "metadata": {},
   "outputs": [
    {
     "data": {
      "image/png": "[encoded data removed]",
      "text/plain": [
       "<Figure size 432x288 with 1 Axes>"
      ]
     },
     "metadata": {
      "needs_background": "light"
     },
     "output_type": "display_data"
    }
   ],
   "source": [
    "accuracyA = play_LSTM_game('Phase A', converge_stop=False)\n",
    "plot_accuracy('Phase A', accuracyA)"
   ]
  },
  {
   "cell_type": "code",
   "execution_count": 31,
   "id": "7d9b0374",
   "metadata": {},
   "outputs": [
    {
     "name": "stdout",
     "output_type": "stream",
     "text": [
      "Accuracy in Phase A is: 100.00%\n",
      "Accuracy in Phase B is: 23.33%\n",
      "Accuracy in Phase C is: 20.00%\n"
     ]
    },
    {
     "data": {
      "image/png": "[encoded data removed]",
      "text/plain": [
       "<Figure size 288x288 with 1 Axes>"
      ]
     },
     "metadata": {
      "needs_background": "light"
     },
     "output_type": "display_data"
    }
   ],
   "source": [
    "def test_all_RLLSTMphase(plot=False):\n",
    "    phases = ['Phase A', 'Phase B', 'Phase C']\n",
    "    train_data, test_data = generate_phase_train_test_data()\n",
    "    all_accu = []\n",
    "    \n",
    "    for phase in phases:\n",
    "        test_input, test_target = test_data[phase]\n",
    "        test_input = onehot(test_input)\n",
    "        test_target = torch.from_numpy(test_target)\n",
    "    \n",
    "        with torch.no_grad():\n",
    "            score = 0\n",
    "            batch_size = test_input.size(0)\n",
    "            for i in range(batch_size):\n",
    "                done = False\n",
    "                while not done:\n",
    "                    this_obs = test_input[i].reshape(1, 1, -1)\n",
    "                    action = LSTMagent.choose_action(this_obs)\n",
    "                    reward = (action == test_target[i].argmax())\n",
    "                    done = True\n",
    "                    score += reward\n",
    "            all_accu.append(score)\n",
    "            print(f\"Accuracy in {phase} is: {score.item()/batch_size:.2%}\")\n",
    "\n",
    "    if plot:\n",
    "        all_accu = np.array(all_accu) / 120\n",
    "        f, ax = plt.subplots(figsize=(4, 4))\n",
    "        ax.bar(phases, all_accu, width=0.5)\n",
    "        for i in range(3):\n",
    "            ax.text(i, all_accu[i]*1.05, '%.3f' % all_accu[i], ha='center', va= 'bottom')\n",
    "            \n",
    "test_all_RLLSTMphase(plot=True)"
   ]
  },
  {
   "cell_type": "markdown",
   "id": "52ca351b",
   "metadata": {},
   "source": [
    "### Transfer phase LSTM"
   ]
  },
  {
   "cell_type": "code",
   "execution_count": 32,
   "id": "7aec8315",
   "metadata": {},
   "outputs": [
    {
     "data": {
      "image/png": "[encoded data removed]",
      "text/plain": [
       "<Figure size 432x288 with 1 Axes>"
      ]
     },
     "metadata": {
      "needs_background": "light"
     },
     "output_type": "display_data"
    }
   ],
   "source": [
    "accuracyB = play_LSTM_game('Phase B')\n",
    "plot_accuracy('Phase B', accuracyB)"
   ]
  },
  {
   "cell_type": "code",
   "execution_count": 33,
   "id": "cd68a464",
   "metadata": {},
   "outputs": [
    {
     "name": "stdout",
     "output_type": "stream",
     "text": [
      "Accuracy in Phase A is: 22.50%\n",
      "Accuracy in Phase B is: 90.83%\n",
      "Accuracy in Phase C is: 100.00%\n"
     ]
    },
    {
     "data": {
      "image/png": "[encoded data removed]",
      "text/plain": [
       "<Figure size 432x288 with 1 Axes>"
      ]
     },
     "metadata": {
      "needs_background": "light"
     },
     "output_type": "display_data"
    }
   ],
   "source": [
    "accuracyC = play_LSTM_game('Phase C')\n",
    "plot_accuracy('Phase C', accuracyC)\n",
    "test_all_RLLSTMphase()"
   ]
  },
  {
   "cell_type": "markdown",
   "id": "549b806e",
   "metadata": {},
   "source": [
    "### Learning Curve"
   ]
  },
  {
   "cell_type": "code",
   "execution_count": 34,
   "id": "d666bb6a",
   "metadata": {},
   "outputs": [
    {
     "data": {
      "image/png": "[encoded data removed]",
      "text/plain": [
       "<Figure size 432x288 with 1 Axes>"
      ]
     },
     "metadata": {
      "needs_background": "light"
     },
     "output_type": "display_data"
    }
   ],
   "source": [
    "plot_learningcurve(['Phase A', 'Phase B', 'Phase C'], \n",
    "                                   [accuracyA[:20], accuracyB, accuracyC])"
   ]
  }
 ],
 "metadata": {
  "kernelspec": {
   "display_name": "Python [conda env:root] *",
   "language": "python",
   "name": "conda-root-py"
  },
  "language_info": {
   "codemirror_mode": {
    "name": "ipython",
    "version": 3
   },
   "file_extension": ".py",
   "mimetype": "text/x-python",
   "name": "python",
   "nbconvert_exporter": "python",
   "pygments_lexer": "ipython3",
   "version": "3.7.11"
  },
  "toc": {
   "base_numbering": 1,
   "nav_menu": {},
   "number_sections": true,
   "sideBar": true,
   "skip_h1_title": false,
   "title_cell": "Table of Contents",
   "title_sidebar": "Contents",
   "toc_cell": false,
   "toc_position": {
    "height": "calc(100% - 180px)",
    "left": "10px",
    "top": "150px",
    "width": "226.38px"
   },
   "toc_section_display": true,
   "toc_window_display": true
  }
 },
 "nbformat": 4,
 "nbformat_minor": 5
}
