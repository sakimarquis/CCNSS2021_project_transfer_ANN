{
 "cells": [
  {
   "cell_type": "code",
   "execution_count": 1,
   "id": "73518d14",
   "metadata": {},
   "outputs": [],
   "source": [
    "import numpy as np\n",
    "import matplotlib.pyplot as plt\n",
    "\n",
    "import torch\n",
    "import torch.nn as nn\n",
    "\n",
    "from hierarchical_generalization.make_datasets import generate_phase_train_test_data"
   ]
  },
  {
   "cell_type": "markdown",
   "id": "03b2bfb8",
   "metadata": {},
   "source": [
    "## Data"
   ]
  },
  {
   "cell_type": "code",
   "execution_count": 2,
   "id": "ab0f00f9",
   "metadata": {},
   "outputs": [
    {
     "name": "stdout",
     "output_type": "stream",
     "text": [
      "dict_keys(['Phase A', 'Phase B', 'Phase C']) dict_keys(['Phase A', 'Phase B', 'Phase C'])\n",
      "(120, 5, 4) (120, 4)\n"
     ]
    }
   ],
   "source": [
    "train_data, test_data = generate_phase_train_test_data() \n",
    "\n",
    "print(train_data.keys(), test_data.keys())\n",
    "print(train_data['Phase A'][0].shape, train_data['Phase A'][1].shape) # trials x color x shape"
   ]
  },
  {
   "cell_type": "code",
   "execution_count": 3,
   "id": "288071e4",
   "metadata": {
    "scrolled": true
   },
   "outputs": [
    {
     "data": {
      "text/plain": [
       "array([[1., 1., 1., 1.],\n",
       "       [1., 0., 0., 0.],\n",
       "       [1., 0., 0., 0.],\n",
       "       [1., 0., 0., 0.],\n",
       "       [1., 0., 0., 0.]])"
      ]
     },
     "execution_count": 3,
     "metadata": {},
     "output_type": "execute_result"
    }
   ],
   "source": [
    "train, target = train_data['Phase A']\n",
    "trial = train[105]\n",
    "trial"
   ]
  },
  {
   "cell_type": "code",
   "execution_count": 4,
   "id": "f384f88a",
   "metadata": {},
   "outputs": [],
   "source": [
    "def onehot(data):\n",
    "    \"\"\"\n",
    "    input: trials x color x shape\n",
    "    output: trials x onehotcoding of color and shape\n",
    "    \"\"\"\n",
    "    num_trials = data.shape[0]\n",
    "    length = data.shape[1] + data.shape[2]\n",
    "    one_hot = torch.zeros([num_trials, length])\n",
    "    \n",
    "    for i in range(num_trials):\n",
    "        dim0 = data[i].sum(axis=0).argmax()\n",
    "        dim1 = data[i].sum(axis=1).argmax()\n",
    "        one_hot[i][dim0] = 1\n",
    "        one_hot[i][data.shape[1] - 1 + dim1] = 1\n",
    "        \n",
    "    return one_hot"
   ]
  },
  {
   "cell_type": "code",
   "execution_count": 5,
   "id": "9034d845",
   "metadata": {
    "scrolled": true
   },
   "outputs": [
    {
     "data": {
      "text/plain": [
       "tensor([[0., 1., 0.,  ..., 0., 0., 0.],\n",
       "        [1., 0., 0.,  ..., 0., 0., 0.],\n",
       "        [0., 1., 0.,  ..., 1., 0., 0.],\n",
       "        ...,\n",
       "        [0., 1., 0.,  ..., 0., 0., 0.],\n",
       "        [1., 0., 0.,  ..., 0., 0., 0.],\n",
       "        [1., 0., 0.,  ..., 1., 0., 0.]])"
      ]
     },
     "execution_count": 5,
     "metadata": {},
     "output_type": "execute_result"
    }
   ],
   "source": [
    "onehot(train)"
   ]
  },
  {
   "cell_type": "code",
   "execution_count": 6,
   "id": "cc5df6c8",
   "metadata": {},
   "outputs": [
    {
     "name": "stdout",
     "output_type": "stream",
     "text": [
      "torch.Size([120, 9]) torch.Size([120, 4])\n"
     ]
    }
   ],
   "source": [
    "def phase_data(phase):\n",
    "    train_data, test_data = generate_phase_train_test_data()\n",
    "    train, test = train_data[phase]\n",
    "    train = onehot(train)\n",
    "    test = torch.from_numpy(test)\n",
    "    return train, test\n",
    "\n",
    "train, test = phase_data('Phase A')\n",
    "print(train.size(), test.size()) # batch x features; batch x actions"
   ]
  },
  {
   "cell_type": "code",
   "execution_count": 7,
   "id": "c0ca4f68",
   "metadata": {},
   "outputs": [
    {
     "data": {
      "text/plain": [
       "tensor([[1., 0., 0., 0., 0., 1., 0., 0., 0.],\n",
       "        [0., 1., 0., 0., 1., 0., 0., 0., 0.],\n",
       "        [1., 0., 0., 0., 0., 0., 1., 0., 0.],\n",
       "        [1., 0., 0., 0., 0., 1., 0., 0., 0.]])"
      ]
     },
     "execution_count": 7,
     "metadata": {},
     "output_type": "execute_result"
    }
   ],
   "source": [
    "train[7:11]"
   ]
  },
  {
   "cell_type": "code",
   "execution_count": 8,
   "id": "63e0f88d",
   "metadata": {
    "scrolled": true
   },
   "outputs": [
    {
     "data": {
      "text/plain": [
       "tensor([[1., 0., 0., 0.],\n",
       "        [0., 1., 0., 0.],\n",
       "        [0., 0., 1., 0.],\n",
       "        [1., 0., 0., 0.]], dtype=torch.float64)"
      ]
     },
     "execution_count": 8,
     "metadata": {},
     "output_type": "execute_result"
    }
   ],
   "source": [
    "test[7:11]"
   ]
  },
  {
   "cell_type": "markdown",
   "id": "6a451735",
   "metadata": {},
   "source": [
    "## RNN"
   ]
  },
  {
   "cell_type": "markdown",
   "id": "40908a21",
   "metadata": {},
   "source": [
    "### Model"
   ]
  },
  {
   "cell_type": "code",
   "execution_count": 9,
   "id": "2af5a293",
   "metadata": {},
   "outputs": [],
   "source": [
    "class LSTM(nn.Module):\n",
    "    def __init__(self, input_size, hidden_size, num_layers, output_size):\n",
    "        super(LSTM, self).__init__()\n",
    "        self.input_size = input_size\n",
    "        self.hidden_size = hidden_size\n",
    "        self.num_layers = num_layers\n",
    "        self.lstm = nn.LSTM(input_size, hidden_size, num_layers)\n",
    "        self.fc = nn.Linear(hidden_size, output_size)\n",
    "    \n",
    "    def init_hidden(self, batch_size):\n",
    "        #h0 = torch.randn(self.num_layers, batch_size, self.hidden_size)\n",
    "        #c0 = torch.randn(self.num_layers, batch_size, self.hidden_size)\n",
    "        h0 = torch.zeros(self.num_layers, batch_size, self.hidden_size)\n",
    "        c0 = torch.zeros(self.num_layers, batch_size, self.hidden_size)\n",
    "        return [h0, c0]\n",
    "    \n",
    "    def forward(self, x, hidden=None):\n",
    "        if hidden == None:\n",
    "            hidden = self.init_hidden(x.size(1))\n",
    "        else:\n",
    "            hidden = hidden\n",
    "        steps = x.size(0) # squence length\n",
    "        out, hidden = self.lstm(x, hidden)\n",
    "        out = self.fc(out)\n",
    "        return out, hidden"
   ]
  },
  {
   "cell_type": "markdown",
   "id": "f3a0c2fc",
   "metadata": {},
   "source": [
    "### Usage refresh"
   ]
  },
  {
   "cell_type": "code",
   "execution_count": 10,
   "id": "651d8a72",
   "metadata": {},
   "outputs": [
    {
     "name": "stdout",
     "output_type": "stream",
     "text": [
      "torch.Size([10, 2, 20]) torch.Size([1, 2, 20]) torch.Size([1, 2, 20])\n"
     ]
    }
   ],
   "source": [
    "length = 10\n",
    "input_size = 3\n",
    "hidden_size = 20\n",
    "batch_size = 2\n",
    "num_layers = 1\n",
    "\n",
    "h0 = torch.zeros(num_layers, batch_size, hidden_size)\n",
    "c0 = torch.zeros(num_layers, batch_size, hidden_size)\n",
    "\n",
    "x = torch.zeros(length, batch_size, input_size)\n",
    "\n",
    "lstm_test = nn.LSTM(input_size, hidden_size)\n",
    "out, hidd = lstm_test(x, [h0, c0])\n",
    "\n",
    "print(out.size(), hidd[0].size(), hidd[1].size()) # out: length x batch x hidden"
   ]
  },
  {
   "cell_type": "markdown",
   "id": "6ca90efb",
   "metadata": {},
   "source": [
    "### Model hyperparameters"
   ]
  },
  {
   "cell_type": "code",
   "execution_count": 11,
   "id": "9d41493f",
   "metadata": {},
   "outputs": [],
   "source": [
    "train, test = phase_data('Phase A') # batch x features; batch x actions\n",
    "\n",
    "input_size = train.size(1)\n",
    "output_size = test.size(1)\n",
    "hidden_size = 64\n",
    "batch_size = test.size(0)\n",
    "num_layers = 1\n",
    "length = 1\n",
    "\n",
    "lstm = LSTM(input_size, hidden_size, num_layers, output_size)\n",
    "\n",
    "optimizer = torch.optim.Adam(lstm.parameters(), lr=0.1)\n",
    "criterion = nn.CrossEntropyLoss()"
   ]
  },
  {
   "cell_type": "markdown",
   "id": "ec402223",
   "metadata": {},
   "source": [
    "## Run!"
   ]
  },
  {
   "cell_type": "markdown",
   "id": "22943cb4",
   "metadata": {},
   "source": [
    "### Train"
   ]
  },
  {
   "cell_type": "code",
   "execution_count": 12,
   "id": "cdb2b94e",
   "metadata": {},
   "outputs": [
    {
     "name": "stdout",
     "output_type": "stream",
     "text": [
      "50\n"
     ]
    },
    {
     "data": {
      "image/png": "[encoded data removed]",
      "text/plain": [
       "<Figure size 432x288 with 1 Axes>"
      ]
     },
     "metadata": {
      "needs_background": "light"
     },
     "output_type": "display_data"
    }
   ],
   "source": [
    "h0 = torch.zeros(num_layers, batch_size, hidden_size)\n",
    "c0 = torch.zeros(num_layers, batch_size, hidden_size)\n",
    "hidden = [h0, c0]\n",
    "\n",
    "def train_model(phase, hidden=None, transfer=True):\n",
    "    current_loss = 0\n",
    "    all_losses = []\n",
    "    #plot_steps, print_steps = 1000, 5000\n",
    "    n_iters = 2000\n",
    "    \n",
    "    for i in range(n_iters):\n",
    "        train, test = phase_data(phase)\n",
    "        train = torch.unsqueeze(train, 0)\n",
    "\n",
    "        output, hidden = lstm(train, hidden=hidden)\n",
    "        hidden = [h0, hidden[1].detach()]\n",
    "        \n",
    "        output = torch.squeeze(output, 0)\n",
    "        loss = criterion(output, test.argmax(axis=1))\n",
    "\n",
    "        optimizer.zero_grad()\n",
    "        loss.backward()\n",
    "        optimizer.step()\n",
    "\n",
    "        all_losses.append(loss.item())\n",
    "        if all_losses[-1] <= 0.01:\n",
    "            if transfer or i >= 50:\n",
    "                break\n",
    "            \n",
    "    print(i)\n",
    "    f, ax = plt.subplots(figsize=(6, 4))\n",
    "    ax.set_xlabel('Iterations')\n",
    "    ax.set_ylabel('Loss')\n",
    "    ax.set_title(phase)\n",
    "    ax.plot(all_losses)\n",
    "    all_losses[-1]\n",
    "    return hidden \n",
    "\n",
    "hidden = train_model('Phase A', hidden, transfer=False)"
   ]
  },
  {
   "cell_type": "markdown",
   "id": "2d43b457",
   "metadata": {},
   "source": [
    "### Test"
   ]
  },
  {
   "cell_type": "code",
   "execution_count": 13,
   "id": "8a28ac10",
   "metadata": {
    "scrolled": true
   },
   "outputs": [
    {
     "name": "stdout",
     "output_type": "stream",
     "text": [
      "Accuracy in Phase A is: 100.00%\n",
      "Accuracy in Phase B is: 29.17%\n",
      "Accuracy in Phase C is: 23.33%\n"
     ]
    }
   ],
   "source": [
    "def test_allphase():\n",
    "    train_data, test_data = generate_phase_train_test_data()\n",
    "    test_inputA, test_targetA = test_data['Phase A']\n",
    "    test_inputB, test_targetB = test_data['Phase B']\n",
    "    test_inputC, test_targetC = test_data['Phase C']\n",
    "\n",
    "    test_inputA = onehot(test_inputA)\n",
    "    test_inputB = onehot(test_inputB)\n",
    "    test_inputC = onehot(test_inputC)\n",
    "    test_targetA = torch.from_numpy(test_targetA)\n",
    "    test_targetB = torch.from_numpy(test_targetB)\n",
    "    test_targetC = torch.from_numpy(test_targetC)\n",
    "\n",
    "    #print(test_inputA.size(), test_targetA.size()) # batch x features; batch x actions\n",
    "\n",
    "\n",
    "    with torch.no_grad():\n",
    "        test_inputA = torch.unsqueeze(test_inputA, 0)\n",
    "        output, _ = lstm(test_inputA)\n",
    "        output = torch.squeeze(output, 0)\n",
    "        accuracy = (output.argmax(dim=1) == test_targetA.argmax(dim=1)).float()\n",
    "        accuracy = accuracy.mean()\n",
    "        print(f\"Accuracy in Phase A is: {accuracy.item():.2%}\")\n",
    "\n",
    "\n",
    "    with torch.no_grad():\n",
    "        test_inputB = torch.unsqueeze(test_inputB, 0)\n",
    "        output, _ = lstm(test_inputB)\n",
    "        output = torch.squeeze(output, 0)\n",
    "        accuracy = (output.argmax(dim=1) == test_targetB.argmax(dim=1)).float()\n",
    "        accuracy = accuracy.mean()\n",
    "        print(f\"Accuracy in Phase B is: {accuracy.item():.2%}\")\n",
    "        \n",
    "    with torch.no_grad():\n",
    "        test_inputC = torch.unsqueeze(test_inputC, 0)\n",
    "        output, _ = lstm(test_inputC)\n",
    "        output = torch.squeeze(output, 0)\n",
    "        accuracy = (output.argmax(dim=1) == test_targetC.argmax(dim=1)).float()\n",
    "        accuracy = accuracy.mean()\n",
    "        print(f\"Accuracy in Phase C is: {accuracy.item():.2%}\")\n",
    "\n",
    "test_allphase()"
   ]
  },
  {
   "cell_type": "markdown",
   "id": "f74e0fae",
   "metadata": {},
   "source": [
    "### Transfer phase B"
   ]
  },
  {
   "cell_type": "code",
   "execution_count": 14,
   "id": "05bdfb7b",
   "metadata": {},
   "outputs": [
    {
     "name": "stdout",
     "output_type": "stream",
     "text": [
      "23\n"
     ]
    },
    {
     "data": {
      "image/png": "[encoded data removed]",
      "text/plain": [
       "<Figure size 432x288 with 1 Axes>"
      ]
     },
     "metadata": {
      "needs_background": "light"
     },
     "output_type": "display_data"
    }
   ],
   "source": [
    "hidden = train_model('Phase B', hidden)"
   ]
  },
  {
   "cell_type": "code",
   "execution_count": 15,
   "id": "b27b1a32",
   "metadata": {
    "scrolled": true
   },
   "outputs": [
    {
     "name": "stdout",
     "output_type": "stream",
     "text": [
      "Accuracy in Phase A is: 22.50%\n",
      "Accuracy in Phase B is: 100.00%\n",
      "Accuracy in Phase C is: 20.00%\n"
     ]
    }
   ],
   "source": [
    "test_allphase()"
   ]
  },
  {
   "cell_type": "markdown",
   "id": "376d6f89",
   "metadata": {},
   "source": [
    "### Transfer phase C"
   ]
  },
  {
   "cell_type": "code",
   "execution_count": 16,
   "id": "e81592aa",
   "metadata": {},
   "outputs": [
    {
     "name": "stdout",
     "output_type": "stream",
     "text": [
      "4\n"
     ]
    },
    {
     "data": {
      "image/png": "[encoded data removed]",
      "text/plain": [
       "<Figure size 432x288 with 1 Axes>"
      ]
     },
     "metadata": {
      "needs_background": "light"
     },
     "output_type": "display_data"
    }
   ],
   "source": [
    "hidden = train_model('Phase C', hidden)"
   ]
  },
  {
   "cell_type": "code",
   "execution_count": 17,
   "id": "411e626f",
   "metadata": {},
   "outputs": [
    {
     "name": "stdout",
     "output_type": "stream",
     "text": [
      "Accuracy in Phase A is: 31.67%\n",
      "Accuracy in Phase B is: 75.00%\n",
      "Accuracy in Phase C is: 100.00%\n"
     ]
    }
   ],
   "source": [
    "test_allphase()"
   ]
  },
  {
   "cell_type": "markdown",
   "id": "b3f7ea62",
   "metadata": {},
   "source": [
    "## Add layers"
   ]
  },
  {
   "cell_type": "markdown",
   "id": "d5901f14",
   "metadata": {},
   "source": [
    "### Model hyperparameters"
   ]
  },
  {
   "cell_type": "code",
   "execution_count": 18,
   "id": "03f2d356",
   "metadata": {},
   "outputs": [],
   "source": [
    "train, test = phase_data('Phase A') # batch x features; batch x actions\n",
    "\n",
    "input_size = train.size(1)\n",
    "output_size = test.size(1)\n",
    "hidden_size = 64\n",
    "batch_size = test.size(0)\n",
    "num_layers = 3\n",
    "length = 1\n",
    "\n",
    "lstm = LSTM(input_size, hidden_size, num_layers, output_size)\n",
    "optimizer = torch.optim.Adam(lstm.parameters(), lr=0.01)\n",
    "criterion = nn.CrossEntropyLoss()\n",
    "\n",
    "h0 = torch.zeros(num_layers, batch_size, hidden_size)\n",
    "c0 = torch.zeros(num_layers, batch_size, hidden_size)\n",
    "hidden = [h0, c0]"
   ]
  },
  {
   "cell_type": "code",
   "execution_count": 19,
   "id": "6fb6040c",
   "metadata": {},
   "outputs": [
    {
     "name": "stdout",
     "output_type": "stream",
     "text": [
      "36\n",
      "Accuracy in Phase A is: 100.00%\n",
      "Accuracy in Phase B is: 41.67%\n",
      "Accuracy in Phase C is: 23.33%\n"
     ]
    },
    {
     "data": {
      "image/png": "[encoded data removed]",
      "text/plain": [
       "<Figure size 432x288 with 1 Axes>"
      ]
     },
     "metadata": {
      "needs_background": "light"
     },
     "output_type": "display_data"
    }
   ],
   "source": [
    "hidden = train_model('Phase A', hidden)\n",
    "test_allphase()"
   ]
  },
  {
   "cell_type": "code",
   "execution_count": 20,
   "id": "1ecc4ae3",
   "metadata": {},
   "outputs": [
    {
     "name": "stdout",
     "output_type": "stream",
     "text": [
      "Accuracy in Phase A is: 100.00%\n",
      "Accuracy in Phase B is: 36.67%\n",
      "Accuracy in Phase C is: 25.00%\n"
     ]
    }
   ],
   "source": [
    "test_allphase()"
   ]
  },
  {
   "cell_type": "code",
   "execution_count": 21,
   "id": "29fb439f",
   "metadata": {},
   "outputs": [
    {
     "name": "stdout",
     "output_type": "stream",
     "text": [
      "67\n",
      "Accuracy in Phase A is: 57.50%\n",
      "Accuracy in Phase B is: 100.00%\n",
      "Accuracy in Phase C is: 28.33%\n"
     ]
    },
    {
     "data": {
      "image/png": "[encoded data removed]",
      "text/plain": [
       "<Figure size 432x288 with 1 Axes>"
      ]
     },
     "metadata": {
      "needs_background": "light"
     },
     "output_type": "display_data"
    }
   ],
   "source": [
    "hidden = train_model('Phase B', hidden)\n",
    "test_allphase()"
   ]
  },
  {
   "cell_type": "code",
   "execution_count": 22,
   "id": "0b398d91",
   "metadata": {},
   "outputs": [
    {
     "name": "stdout",
     "output_type": "stream",
     "text": [
      "33\n",
      "Accuracy in Phase A is: 47.50%\n",
      "Accuracy in Phase B is: 75.83%\n",
      "Accuracy in Phase C is: 100.00%\n"
     ]
    },
    {
     "data": {
      "image/png": "[encoded data removed]",
      "text/plain": [
       "<Figure size 432x288 with 1 Axes>"
      ]
     },
     "metadata": {
      "needs_background": "light"
     },
     "output_type": "display_data"
    }
   ],
   "source": [
    "hidden = train_model('Phase C', hidden)\n",
    "test_allphase()"
   ]
  },
  {
   "cell_type": "code",
   "execution_count": null,
   "id": "d7fea270",
   "metadata": {},
   "outputs": [],
   "source": []
  }
 ],
 "metadata": {
  "kernelspec": {
   "display_name": "Python [conda env:root] *",
   "language": "python",
   "name": "conda-root-py"
  },
  "language_info": {
   "codemirror_mode": {
    "name": "ipython",
    "version": 3
   },
   "file_extension": ".py",
   "mimetype": "text/x-python",
   "name": "python",
   "nbconvert_exporter": "python",
   "pygments_lexer": "ipython3",
   "version": "3.7.11"
  },
  "toc": {
   "base_numbering": 1,
   "nav_menu": {},
   "number_sections": true,
   "sideBar": true,
   "skip_h1_title": false,
   "title_cell": "Table of Contents",
   "title_sidebar": "Contents",
   "toc_cell": false,
   "toc_position": {},
   "toc_section_display": true,
   "toc_window_display": true
  }
 },
 "nbformat": 4,
 "nbformat_minor": 5
}
